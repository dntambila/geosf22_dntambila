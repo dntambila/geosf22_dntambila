{
 "cells": [
  {
   "cell_type": "markdown",
   "metadata": {},
   "source": [
    "Geo Data Science with Python,\n",
    "Prof. Susanna Werth, VT Geosciences\n",
    "\n",
    "---\n",
    "# Exercise 6: NumPy & Matplotlib\n",
    "\n",
    "\n",
    "### Content & Grading\n",
    "\n",
    "You will receive the following points for this exercise:\n",
    "\n",
    "\n",
    "- **A.1**:  *5 P* - Read the data\n",
    "- **A.2**:  *5 P* - Basic statistics of the data\n",
    "- **A.3**: *10 P* - Data manipulation\n",
    "- **A.4**:  *2 P* - Save the data \n",
    "- **A.5**:  *9 P* - Data analysis \n",
    "- **A.6**: *15 P* - Visualize & compare\n",
    "- **A.7**:  *4 P* - Interpretation\n",
    "- **B**: *10P* - Plot a map\n",
    "\n",
    "Total: \n",
    "- 60 points \n",
    "- **up to 15 extra credit points for reasonaby commenting your code** (But don't overcomment. Add as many as needed and as few as possible. Ieally you help me to quickly realize, which code belongs to which task item).\n",
    "\n",
    "---\n"
   ]
  },
  {
   "cell_type": "markdown",
   "metadata": {},
   "source": [
    "### Name and Collaborator\n",
    "Add your name and the name of any collaborator in the code cell below."
   ]
  },
  {
   "cell_type": "code",
   "execution_count": 2,
   "metadata": {},
   "outputs": [],
   "source": [
    "Name = 'Ntambila Daud'\n",
    "Collaborators = ['None']"
   ]
  },
  {
   "cell_type": "markdown",
   "metadata": {
    "tags": []
   },
   "source": [
    "<div class=\"alert alert-warning\">\n",
    "\n",
    "**Grades:** \n",
    "\n",
    "Total points: **72.5**/60\n",
    "    \n",
    "- Part A (40P)\n",
    "    - A1: 5/5\n",
    "    - A2: 4.5/5\n",
    "    - A3: 8/10\n",
    "    - A4: 2/2\n",
    "    - A5: 9/9\n",
    "    - A6: 15/15\n",
    "    - A7: 4/4\n",
    "- Part B (10P)\n",
    "    - B: 10/10\n",
    "- Extra credit: 15/15\n",
    "\n",
    "Signed: Susanna Werth\n",
    "    \n",
    "    \n",
    "</div>\n"
   ]
  },
  {
   "cell_type": "markdown",
   "metadata": {},
   "source": [
    "<div class=\"alert alert-warning\">\n",
    "\n",
    "**Additional Grading Notes:** \n",
    "\n",
    "Some more comments might be provided below for answers without full points. If there are no comments, your answer is correct.\n",
    "        \n",
    "\n",
    "    \n",
    "\n",
    "\n",
    "    \n",
    "    \n",
    "</div>\n",
    "\n"
   ]
  },
  {
   "cell_type": "markdown",
   "metadata": {},
   "source": [
    "---\n",
    "---\n",
    "<a id='np'></a>\n",
    "# A. Temperature Data Analysis (NumPy)\n",
    "\n",
    "### Overview\n",
    "This part of the assignment is reflecting usage of NumPy Data arrays, basic data analysis and data manipulations using real data. You are asked to analyze temperature data from Kumpula, Helsinki (in Southern Finland) and Rovaniemi (in northern Finland) and to explore how their summer temperatures have differed in 2017.\n",
    "\n",
    "**Make sure to regularily comment your code, to receive the extra credit points for that!**\n"
   ]
  },
  {
   "cell_type": "markdown",
   "metadata": {},
   "source": [
    "### Data data\n",
    "The following files are stored in the folder **./data** of the homework repository (**geosf22_material**): \n",
    "\n",
    "We will use NOAA weather data. The data has been stored in a CSV file (comma delimited text file) which is stored in the data subdirectory: `6153237444115dat.csv`.\n",
    "\n",
    "You can read the full description of the data and all the attributes from this file:  `3505doc.txt`.\n",
    "\n",
    "The first five rows of the data look like following:"
   ]
  },
  {
   "cell_type": "code",
   "execution_count": 3,
   "metadata": {},
   "outputs": [],
   "source": [
    "# USAF,WBAN,YR--MODAHRMN,DIR,SPD,GUS,CLG,SKC,L,M,H,VSB,MW,MW,MW,MW,AW,AW,AW,AW,W,TEMP,DEWP,SLP,ALT,STP,MAX,MIN,PCP01,PCP06,PCP24,PCPXX,SD\n",
    "# 028450,99999,201705010000,174,10,14,***,***,*,*,*,2.2,**,**,**,**,67,**,**,**,8,31,31,1009.2,*****,984.1,***,***,*****,*****,*****,*****,35\n",
    "# 028450,99999,201705010020,180,10,***,4,***,*,*,*,2.9,**,**,**,**,10,**,**,**,*,30,30,******,29.74,******,***,***,*****,*****,*****,*****,**\n",
    "# 028450,99999,201705010050,190,10,***,4,***,*,*,*,2.1,**,**,**,**,10,**,**,**,*,30,30,******,29.74,******,***,***,*****,*****,*****,*****,**\n",
    "# 028450,99999,201705010100,188,12,16,***,***,*,*,*,3.2,**,**,**,**,77,**,**,**,*,31,30,1009.1,*****,984.0,***,***,*****,*****,*****,*****,35"
   ]
  },
  {
   "cell_type": "markdown",
   "metadata": {
    "nbgrader": {
     "grade": false,
     "grade_id": "cell-Aintro2",
     "locked": true,
     "schema_version": 3,
     "solution": false,
     "task": false
    }
   },
   "source": [
    "**Note**: the data includes `*`-characters that represent no-data values.\n",
    "\n",
    "For this exercise, you only need to read the following columns:\n",
    "\n",
    "* **USAF** = the station ID number\n",
    "    * 028450 : Rovaniemi\n",
    "    * 029980 : Helsinki Kumpula\n",
    "* **YR--MODAHRMN** = Year-Month-Day-Hour-Minute in Greenwich Mean Time (GMT)\n",
    "* **TEMP** = Temperature in Fahrenheit\n",
    "* **MAX** = Maximum temperature in Fahrenheit\n",
    "* **MIN** = Minimum temperature in Fahrenheit\n",
    "\n",
    "... using the `usecols()` parameter in the `genfromtxt()` function in NumPy. Refer to the [NumPy documentation for numpy.genfromtxt()](https://docs.scipy.org/doc/numpy/reference/generated/numpy.genfromtxt.html) to learn how to use this parameter."
   ]
  },
  {
   "cell_type": "markdown",
   "metadata": {
    "nbgrader": {
     "grade": false,
     "grade_id": "cell-A1task1",
     "locked": true,
     "points": 1,
     "schema_version": 3,
     "solution": false,
     "task": true
    }
   },
   "source": [
    "---\n",
    "### A.1: Read the data\n",
    "\n",
    "In this assignment part your task is to open and explore the NOAA weather data using NumPy. Please answer the given tasks and write your code into the codeblocks below.\n",
    "\n",
    "1. **Import** the NumPy module **using the acronym `np`**\n",
    "2. **Read the data** using NumPy into a variable called **`data`** (1 point)\n",
    "    - Note: We only want the `USAF`, `YR--MODAHRMN`, `TEMP`, `MAX`, and `MIN` columns from the data file\n",
    "3. **Split the data** into separate variables called `station`, `date`, `temp`, `temp_max`, and `temp_min`\n"
   ]
  },
  {
   "cell_type": "code",
   "execution_count": 4,
   "metadata": {},
   "outputs": [],
   "source": [
    "\n",
    "### ADD YOUR CODE - A.1\n",
    "import numpy as np\n",
    "\n",
    "data = np.genfromtxt('../../../TeachingMaterial/data/6153237444115dat.csv', skip_header=1, delimiter=',',usecols = (0,2,21,26,27))\n",
    "\n",
    "station = data[:,0]\n",
    "date = data[:,1]\n",
    "temp = data[:,2]\n",
    "temp_max = data[:,3]\n",
    "temp_min = data[:,4]"
   ]
  },
  {
   "cell_type": "markdown",
   "metadata": {
    "nbgrader": {
     "grade": false,
     "grade_id": "cell-A1task1",
     "locked": true,
     "points": 1,
     "schema_version": 3,
     "solution": false,
     "task": true
    }
   },
   "source": [
    "---\n",
    "### A.2: Basic statistics of the data \n",
    "\n",
    "Request appropriate numpy attributes that provide answers to the following questions:\n",
    "\n",
    "1. What are the dimensions of the data? \n",
    "2. What is the datatype of the data?\n",
    "\n",
    "\n",
    "Answer the following questions to explore basic statistics in the data, using the functions `np.nanmean()`, `np.nanstd()` and `np.unique()`. Note that we have to use the `nan` versions of the numpy methods mean, std and unique, to make sure the `NaN` (not a number) values in the dataset are ignored. \n",
    "\n",
    "3. What is the mean Fahrenheit temperature in the data (the `temp` variable)? Assign this number to the variable `temp_mean`.\n",
    "4. What is the standard deviation of the maximum temperature (the `temp_max` variable)? Assign this number to the variable `temp_max_std`.\n",
    "5. How many unique stations exists in the data (the `station` variable)? Use the numpy method `unique()` and assign this number to the variable `station_count`.\n"
   ]
  },
  {
   "cell_type": "code",
   "execution_count": 5,
   "metadata": {},
   "outputs": [
    {
     "name": "stdout",
     "output_type": "stream",
     "text": [
      "(11694, 5)\n",
      "<class 'numpy.ndarray'>\n",
      "The mean temperature is 52.25°F.\n",
      "The standard deviation of the maximum temperature is 10.3°F.\n",
      "There are 2 unique stations whose IDs are 028450 and 029980\n"
     ]
    }
   ],
   "source": [
    "\n",
    "### ADD YOUR CODE to print Answers to the Questions here - A.2\n",
    "#1 dimensions\n",
    "print(data.shape)     # gives dimensions of the data\n",
    "\n",
    "#2 datatype\n",
    "print(type(data))     # gives datatype of the data\n",
    "\n",
    "#3 mean temperature\n",
    "temp_mean = np.nanmean(temp)\n",
    "print(\"The mean temperature is {}\\N{DEGREE SIGN}F.\" .format(round(temp_mean,2)))\n",
    "\n",
    "#4 standard deviation of the max temp\n",
    "temp_max_std = np.nanstd(temp_max)\n",
    "print(\"The standard deviation of the maximum temperature is {}\\N{DEGREE SIGN}F.\" .format(round(temp_max_std,2)))\n",
    "\n",
    "#5 unique stations\n",
    "stationid = np.unique(station)\n",
    "station_count = len(stationid)\n",
    "print(\"There are {} unique stations whose IDs are {:0=6d} and {:0=6d}\" .format(station_count,stationid[0].astype('int'),stationid[1].astype('int')))"
   ]
  },
  {
   "cell_type": "markdown",
   "metadata": {},
   "source": [
    "<div class=\"alert alert-warning\">\n",
    "\n",
    "**Additional Grading Notes:** \n",
    "    \n",
    "Q1: (-0.5P) number of dimensions of the data is 2 and can be read with the function .ndim(), then shape provides the size of each dimension.\n",
    "\n",
    "\n",
    "    \n",
    "    \n",
    "</div>\n",
    "\n"
   ]
  },
  {
   "cell_type": "markdown",
   "metadata": {
    "nbgrader": {
     "grade": false,
     "grade_id": "cell-A2task1",
     "locked": true,
     "points": 1,
     "schema_version": 3,
     "solution": false,
     "task": true
    }
   },
   "source": [
    "---\n",
    "### A.3 Data manipulation: Remove no data values & divide data into subsets\n",
    "\n",
    "We will keep working with the importat dataset, which should now be saved in the variable `data`, as well as in the individual column variables `station`, `date`, `temp`, `temp_max`, and `temp_min`. Work on the following tasks for data manipulation.\n",
    "\n",
    "First, completely remove entries with nan-values:\n",
    "\n",
    "1. Create a new mask variable `tempmask` that is `True` for all finite temperature values, and `False` for `nan` values in the `temp` variable\n",
    "2. Filter (remove) all rows from the column variables (`station`, `date`, `temp`, `temp_max`, and `temp_min`) using the `tempmask` array and save the new columns in the variables (`station_noNan`, `date_noNan`, `temp_noNan`, `temp_max_noNan`, and `temp_min_noNan`)\n",
    " \n",
    "After that, divide the data into separate subsets for different stations.\n",
    "\n",
    "3. Select all rows from the data arrays containin no nan-values into variable called `kumpula` where the `station` value is `29980` using an array mask called `kmask`\n",
    "4. Select all rows from the data arrays containin no nan-values into variable called `rovaniemi` where the `station` value is `28450` using an array mask called `rmask`\n",
    "  \n",
    "\n",
    "Hint: the functions `vstack()` and `transpose()` might be useful for this task.\n",
    "\n",
    "Note: Don't be surprised, if there are still nan-values in the dataset. Keep in mind, that you have (and should have) excluded only nan-values in the temperature column of the dataset."
   ]
  },
  {
   "cell_type": "code",
   "execution_count": 22,
   "metadata": {},
   "outputs": [
    {
     "data": {
      "text/plain": [
       "(243, 5)"
      ]
     },
     "execution_count": 22,
     "metadata": {},
     "output_type": "execute_result"
    }
   ],
   "source": [
    "\n",
    "### ADD YOUR CODE for A.3\n",
    "#1 new mask variable tempmask\n",
    "tempmask = ~np.isnan(temp)\n",
    "\n",
    "#2 filtering all rows from the column variables\n",
    "station_noNan = station[tempmask]\n",
    "date_noNan = date[tempmask]\n",
    "temp_noNan = temp[tempmask]\n",
    "temp_max_noNan = temp_max[tempmask]\n",
    "temp_min_noNan = temp_min[tempmask]\n",
    "\n",
    "#3 selecting al rows from nan-values \n",
    "kdata = data[data[:,0] ==29980]     # retains all columns into kdata\n",
    "kmask = ~np.isnan(kdata).any(axis=1) # retains false for nan data \n",
    "kumpula = kdata[kmask]  # stores all columns with nan values in a row using kmask as index\n",
    "\n",
    "#4 selecting al rows from nan-values \n",
    "rdata = data[data[:,0] ==28450]     # retains all columns into rdata\n",
    "rmask = ~np.isnan(rdata).any(axis=1) # retains false for nan data \n",
    "rovaniemi = rdata[rmask]  # stores all columns with nan-values in a row using rmask as index"
   ]
  },
  {
   "cell_type": "markdown",
   "metadata": {},
   "source": [
    "<div class=\"alert alert-warning\">\n",
    "\n",
    "**Additional Grading Notes:** \n",
    "(-2P): double check your filters and consider the hints in the task description. Your station data are cut to too small length. They should have length of 2924 and 8767. You have only a tenth of that.\n",
    "</div>\n",
    "\n"
   ]
  },
  {
   "cell_type": "code",
   "execution_count": 7,
   "metadata": {},
   "outputs": [
    {
     "name": "stdout",
     "output_type": "stream",
     "text": [
      "Kumpula: \n",
      " [[2.99800000e+04 2.01705011e+11 4.40000000e+01 4.40000000e+01\n",
      "  3.50000000e+01]\n",
      " [2.99800000e+04 2.01705012e+11 4.80000000e+01 5.40000000e+01\n",
      "  4.30000000e+01]\n",
      " [2.99800000e+04 2.01705021e+11 5.00000000e+01 5.00000000e+01\n",
      "  3.40000000e+01]\n",
      " [2.99800000e+04 2.01705022e+11 5.30000000e+01 6.10000000e+01\n",
      "  4.90000000e+01]\n",
      " [2.99800000e+04 2.01705031e+11 4.70000000e+01 5.30000000e+01\n",
      "  3.80000000e+01]] \n",
      "\n",
      "Rovaniemi: \n",
      " [[2.84500000e+04 2.01705011e+11 3.10000000e+01 3.40000000e+01\n",
      "  3.10000000e+01]\n",
      " [2.84500000e+04 2.01705012e+11 4.20000000e+01 4.40000000e+01\n",
      "  3.00000000e+01]\n",
      " [2.84500000e+04 2.01705021e+11 4.10000000e+01 4.20000000e+01\n",
      "  3.50000000e+01]\n",
      " [2.84500000e+04 2.01705022e+11 3.70000000e+01 4.50000000e+01\n",
      "  3.60000000e+01]\n",
      " [2.84500000e+04 2.01705031e+11 3.70000000e+01 3.70000000e+01\n",
      "  3.30000000e+01]] \n",
      "\n"
     ]
    }
   ],
   "source": [
    "# Check if your subset variables contain what they should\n",
    "# (you don't need to modify this cell)\n",
    "\n",
    "print(\"Kumpula: \\n\", kumpula[:5,:], \"\\n\")\n",
    "print(\"Rovaniemi: \\n\", rovaniemi[:5,:], \"\\n\")\n"
   ]
  },
  {
   "cell_type": "markdown",
   "metadata": {
    "nbgrader": {
     "grade": false,
     "grade_id": "cell-A2task3",
     "locked": true,
     "schema_version": 3,
     "solution": false,
     "task": false
    }
   },
   "source": [
    "---\n",
    "### A.4 Save the data into a csv-file\n",
    "\n",
    "Now save the data for each station into a csv-file `data_kumpula.csv` and `data_rovaniemi.csv`, using the savetext() function in the code cell below. \n"
   ]
  },
  {
   "cell_type": "code",
   "execution_count": 8,
   "metadata": {
    "nbgrader": {
     "grade": true,
     "grade_id": "cell-A2answer3",
     "locked": false,
     "points": 0,
     "schema_version": 3,
     "solution": true,
     "task": false
    }
   },
   "outputs": [],
   "source": [
    "\n",
    "### ADD YOUR CODE for A.4\n",
    "# Saving the two files as csv\n",
    "np.savetxt('data_kumpula.csv', kumpula, delimiter=',',header=\"StationID (USAF), Dates,Temp, Tem_max, Temp_max, Temp_min\")\n",
    "np.savetxt('data_rovaniemi.csv', rovaniemi, delimiter=',',header=\"StationID (USAF), Dates,Temp, Tem_max, Temp_max, Temp_min\") "
   ]
  },
  {
   "cell_type": "markdown",
   "metadata": {
    "nbgrader": {
     "grade": false,
     "grade_id": "cell-A3task1",
     "locked": true,
     "schema_version": 3,
     "solution": false,
     "task": false
    }
   },
   "source": [
    "---\n",
    "### A.5 Data analysis \n",
    "\n",
    "In this problem the aim is to understand the differences between temperatures in Helsinki Kumpula and Rovaniemi. The data are now stored in your variables `kumpula` and `rovaniemi`. Remember to comment your code.\n",
    "\n",
    "\n",
    "1. What was the median temperature during the observed period in:\n",
    "    - Helsinki Kumpula? (store the answer in a variable `kumpula_median`\n",
    "    - Rovaniemi? (store the answer in a variable `rovaniemi_median`\n",
    "\n",
    "2. The median temperatures above consider data from quite a long period of time (May-Aug), hence the differences might not be so clear. Hence, **find out what the mean temperatures in May and June in Kumpula and Rovaniemi were:**\n",
    "    - Select from `rovaniemi` and `kumpula` arrays the rows where values of the `date` column are from May 2017 and assign them into mask variables `rovaniemi_may` and `kumpula_may`\n",
    "    - Repeat the procedure for the month of June and assign those values into mask variables `rovaniemi_june` and `kumpula_june`\n",
    "\n",
    "3. Print the mean, min and max temperatures for both locations in May and June using the new masks (`rovaniemi_may`,`kumpula_may`,`rovaniemi_june` and `kumpula_june`)."
   ]
  },
  {
   "cell_type": "code",
   "execution_count": 18,
   "metadata": {
    "nbgrader": {
     "grade": true,
     "grade_id": "cell-A2answer3",
     "locked": false,
     "points": 0,
     "schema_version": 3,
     "solution": true,
     "task": false
    }
   },
   "outputs": [
    {
     "name": "stdout",
     "output_type": "stream",
     "text": [
      " The median temperature for kumpula is  59.0\n",
      " The median temperature for rovaniemi is  53.0\n"
     ]
    }
   ],
   "source": [
    "\n",
    "### ADD YOUR CODE for A.5\n",
    "#1 median temperature for kumpula and rovaniemi\n",
    "kumpula_median = np.median(kumpula[:,2])\n",
    "print(\" The median temperature for kumpula is \" , kumpula_median)\n",
    "\n",
    "rovaniemi_median = np.median(rovaniemi[:,2])\n",
    "print(\" The median temperature for rovaniemi is \" , rovaniemi_median)\n"
   ]
  },
  {
   "cell_type": "code",
   "execution_count": 19,
   "metadata": {},
   "outputs": [],
   "source": [
    "### ADD YOUR CODE for A.5\n",
    "#2 selecting data for Rovaniemi and Kumpula in May 2017\n",
    "rovaniemi_may = rovaniemi[(rovaniemi[:,1] >=201705e+6) & (rovaniemi[:,1] <201706e+6)]\n",
    "kumpula_may = kumpula[(kumpula[:,1] >=201705e+6) & (kumpula[:,1] <201706e+6)]\n",
    "# selecting data for Rovaniemi and Kumpula in June 2017\n",
    "rovaniemi_june = rovaniemi[(rovaniemi[:,1] >=201706e+6) & (rovaniemi[:,1] <201707e+6)]\n",
    "kumpula_june = kumpula[(kumpula[:,1] >=201706e+6) & (kumpula[:,1] <201707e+6)]"
   ]
  },
  {
   "cell_type": "code",
   "execution_count": 20,
   "metadata": {},
   "outputs": [
    {
     "name": "stdout",
     "output_type": "stream",
     "text": [
      "The mean, min, and max temperatures for Rovaniemi in May is 38.27°F, 27.0°F and 54.0°F repectively.\n",
      "\n",
      "The mean, min, and max temperatures for Rovaniemi in June  is 52.97°F, 34.0°F and 71.0°F repectively.\n",
      "\n",
      "The mean, min, and max temperatures for Kumpula in May is 50.13°F, 36.0°F and 64.0°F repectively.\n",
      "\n",
      "The mean, min, and max temperatures for Kumpula in June is 57.61°F, 44.0°F and 70.0°F repectively.\n"
     ]
    }
   ],
   "source": [
    "### ADD YOUR CODE for A.5\n",
    "3# printing the mean, min and max temperatures for Rovaniemi in May  using the new masks\n",
    "print('The mean, min, and max temperatures for Rovaniemi in May \\\n",
    "is {}\\N{DEGREE SIGN}F, {}\\N{DEGREE SIGN}F and {}\\N{DEGREE SIGN}F repectively.\\n'.format(round(np.mean(rovaniemi_may[:,2]),2), \\\n",
    "                                       np.amin(rovaniemi_may[:,2]),np.amax(rovaniemi_may[:,2])))\n",
    "print('The mean, min, and max temperatures for Rovaniemi in June  \\\n",
    "is {}\\N{DEGREE SIGN}F, {}\\N{DEGREE SIGN}F and {}\\N{DEGREE SIGN}F repectively.\\n'.format(round(np.mean(rovaniemi_june[:,2]),2), \\\n",
    "                                       np.amin(rovaniemi_june[:,2]),np.amax(rovaniemi_june[:,2])))\n",
    "\n",
    "# printing the mean, min and max temperatures for Kumpula in June using the new masks\n",
    "print('The mean, min, and max temperatures for Kumpula in May \\\n",
    "is {}\\N{DEGREE SIGN}F, {}\\N{DEGREE SIGN}F and {}\\N{DEGREE SIGN}F repectively.\\n'.format(round(np.mean(kumpula_may[:,2]),2), \\\n",
    "                                       np.amin(kumpula_may[:,2]),np.amax(kumpula_may[:,2])))\n",
    "print('The mean, min, and max temperatures for Kumpula in June \\\n",
    "is {}\\N{DEGREE SIGN}F, {}\\N{DEGREE SIGN}F and {}\\N{DEGREE SIGN}F repectively.'.format(round(np.mean(kumpula_june[:,2]),2), \\\n",
    "                                       np.amin(kumpula_june[:,2]),np.amax(kumpula_june[:,2])))"
   ]
  },
  {
   "cell_type": "markdown",
   "metadata": {},
   "source": [
    "<div class=\"alert alert-warning\">\n",
    "\n",
    "**Additional Grading Notes:** \n",
    "    \n",
    "Your final results for all mean/min/max values at both stations are not correct, double check the filters and calculations (as commented above).\n",
    "\n",
    "\n",
    "    \n",
    "    \n",
    "</div>\n",
    "\n"
   ]
  },
  {
   "cell_type": "markdown",
   "metadata": {
    "nbgrader": {
     "grade": false,
     "grade_id": "cell-Btask",
     "locked": true,
     "points": 0,
     "schema_version": 3,
     "solution": false,
     "task": true
    }
   },
   "source": [
    "---\n",
    "### A.6 Visualize & compare time series from *Kumpula* and *Rovaniemi*\n",
    "\n",
    "In the previous part of this assignment you have extracted the hourly temperature measurements during the month of May, 2017 for the two locations *Kumpula* and *Rovaniemi*. These should be stored in the numpy arrays `kumpula` and `rovaniemi`. Now plot these time series to compare them.\n",
    "\n",
    "Create a plot with matplotlib.pyplot and format it the following way:\n",
    "\n",
    "1. Use a dashed line format and add circle markers for the data points.\n",
    "2. Plot the *Kumpula* graph in red, and *Rovaniemi* in blue.\n",
    "3. Include a title `\"Kumpula & Rovaniemi Temperatures in May 2017\"`.\n",
    "4. Add an X-label `\"Time\"`.\n",
    "5. Add a Y-label `\"Temperature [°F]\"`.\n",
    "6. Mark the highest peak in one of the two time series by adding text to the graph: `'High temperature in May 2017 (location)'`\n",
    "7. Add date labels to the x axis in datetime format `'%Y%m%d%H%M'`. <br> Hint: use the `plt.subplots()` function this time, without creating rows or colums of subplots.\n",
    "8. Add a legend for the two colored graphs to the plot. \n",
    "9. Add a grid to the background.\n",
    "10. Save the figure in a .png image file.\n"
   ]
  },
  {
   "cell_type": "code",
   "execution_count": 12,
   "metadata": {
    "nbgrader": {
     "grade": true,
     "grade_id": "cell-A2answer3",
     "locked": false,
     "points": 0,
     "schema_version": 3,
     "solution": true,
     "task": false
    }
   },
   "outputs": [
    {
     "data": {
      "image/png": "[encoded data removed]",
      "text/plain": [
       "<Figure size 432x288 with 1 Axes>"
      ]
     },
     "metadata": {
      "needs_background": "light"
     },
     "output_type": "display_data"
    }
   ],
   "source": [
    "\n",
    "### ADD YOUR CODE - A.6\n",
    "import matplotlib.pyplot as plt\n",
    "from datetime import datetime\n",
    "# converting the datetime into '%Y%m%d%H%M' format\n",
    "RovDateStr = (rovaniemi_may[:,1].astype(int)).astype(str)\n",
    "RovDate = [ datetime.strptime(i, '%Y%m%d%H%M') for i in RovDateStr]\n",
    "\n",
    "KumDateStr = (kumpula_may[:,1].astype(int)).astype(str)\n",
    "KumDate = [ datetime.strptime(t, '%Y%m%d%H%M') for t in KumDateStr]\n",
    "\n",
    "fig, ax = plt.subplots()\n",
    "# plotting temperature for Kumpula\n",
    "ax.plot(KumDate,kumpula_may[:,2],\"ro--\", label='Kumpula Temperatures')\n",
    "# plotting temperature for Rovaniemi\n",
    "ax.plot(RovDate,rovaniemi_may[:,2],\"bo--\", label='Rovaniemi Temperatures')\n",
    "plt.xticks(rotation=25, ha = 'right')\n",
    "ax.set_xlabel('Time')\n",
    "ax.set_ylabel('Temperature [\\N{DEGREE SIGN}F]')\n",
    "ax.set_title(\"Kumpula & Rovaniemi Temperature in May 2017\")\n",
    "ax.grid()\n",
    "ax.legend(loc='lower right')\n",
    "ax.text(KumDate[13],61.5,'High temperature in --->\\nMay 2017 (Kumpula)')\n",
    "plt.tight_layout()  # prevents cutting off the dates when saving the plot\n",
    "plt.savefig('Kumpula&Rovaniemi.png') # save in standard resolution\n",
    "plt.show()\n",
    "           "
   ]
  },
  {
   "cell_type": "markdown",
   "metadata": {
    "jp-MarkdownHeadingCollapsed": true,
    "nbgrader": {
     "grade": false,
     "grade_id": "cell-A3task4",
     "locked": true,
     "points": 0,
     "schema_version": 3,
     "solution": false,
     "task": true
    },
    "tags": []
   },
   "source": [
    "---\n",
    "### Task A.7: Interpretation\n",
    "\n",
    "Let's briefly interpret the results of this data analysis. Justify your answers to the following questions based on the data analysis results from this exercise (edit the markdown cell below to add your answers):\n",
    "\n",
    "1. Did you find large temperatures differences between the months?\n",
    "2. Is Rovaniemi a much colder place than Kumpula?"
   ]
  },
  {
   "cell_type": "markdown",
   "metadata": {},
   "source": [
    "### ---\n",
    "1. Yes, I found a large differences between the months especially for Rovaniemi. Its mean temperature in May and June are  38.27 and 52.97 degrees Fahrenheit which gives a difference of 14.7 degree Fahrenheit while for Kumpula station the mean difference small 7.48 Fahrenheit (half of Rovaniemi)\n",
    "**ADD YOUR ANSWERS FOR A.6 IN THIS MARKDOWN CELL !!!**\n",
    "\n",
    "### ---\n",
    "2. Yes, Rovaniemi is much colder place than Kumpula. It is also event from the plot of time series that, its temperature values indicate coldness"
   ]
  },
  {
   "cell_type": "markdown",
   "metadata": {
    "tags": []
   },
   "source": [
    "---\n",
    "<a id='mpl'></a>\n",
    "# B. Plot a Map with Matplotlib\n"
   ]
  },
  {
   "cell_type": "markdown",
   "metadata": {
    "nbgrader": {
     "grade": false,
     "grade_id": "cell-Btask",
     "locked": true,
     "points": 10,
     "schema_version": 3,
     "solution": false,
     "task": true
    }
   },
   "source": [
    "### Overview\n",
    "Plot the subset/slice of a gridded dataset with adjusted axes labels.\n",
    "\n",
    "### Data\n",
    "The following file is stored in the folder **./data** of the homework repository (**geosf22_material**): \n",
    "\n",
    "The file `'US_MSR_lowRes_terrain.dat'` contains a georeferenced shaded relief map of the USA.\n",
    "\n",
    "In the code cell below, your are already provided with code to import this dataset from the file into the variable `reliefUS`. It already stores metadata from the file header, and `x` and `y` coordinates of the shaded relief in form of a meshgrid.\n",
    "\n",
    "### Task\n",
    " In the code cell below, you are also given coordinate bounds for a smaller area in the Northeast (NE) of the United States, stored in the variables `latMin`, `latMax`, `lonMin` and `lonMax`. Your task is to slice data for this bounding box out of the shaded relief data set. Then, plot the sliced out data frame in a matplotlib image with correctly labeled coordinate axes. In addition, plot the location of the city of New York and two further cities of your choice into the map. For that you need to:\n",
    "\n",
    "* Find correct indicees for the bounding box coordinates in the coordinate arrays `x_col` and `y_col`. (2 points)\n",
    "* Slice all relevant arrays to the bounding box using those indicees. (2 points)\n",
    "* Plot  relief data correctly labeled axes, the x and y coordinates. (2 points)\n",
    "* Plot the relief with a reversed gray scale colorbar. (1 point)\n",
    "* Plot the location of the city New York, with the coordinates `NY_lat` and `NY_lon` using a colored dot marker. (1 point)\n",
    "* Label the dot marker for the city of New York with its name. (1 point)\n",
    "* Find coordinates of two more cities in the map frame and add colored dots for their locations. (1 point)\n"
   ]
  },
  {
   "cell_type": "code",
   "execution_count": 23,
   "metadata": {
    "nbgrader": {
     "grade": false,
     "grade_id": "cell-Bdata",
     "locked": true,
     "schema_version": 3,
     "solution": false,
     "task": false
    }
   },
   "outputs": [],
   "source": [
    "# provided code to:\n",
    "#    import the relief data, \n",
    "#    define the coordinate arrays (meshgrids)\n",
    "#    define new bounding box for reduced data fram\n",
    "\n",
    "import numpy as np\n",
    "\n",
    "# reading the file using numpy function genfromtxt, skipping header\n",
    "filename = \"../../../TeachingMaterial/data/US_MSR_lowRes_terrain.dat\"  # USA Shaded relief data\n",
    "reliefUS = np.genfromtxt(filename, delimiter=' ', skip_header=6) \n",
    "\n",
    "# bounding box information from file header\n",
    "xllcorner = -129.9727818920000004\n",
    "yllcorner =  15.5224817269999988\n",
    "cellsize  =   0.04001\n",
    "[yDim,xDim] = reliefUS.shape\n",
    "\n",
    "# Creating meshgrids x and y that hold lon and lat coordinates for each data point\n",
    "x_col = np.empty(reliefUS.shape)\n",
    "y_col = np.empty(reliefUS.shape)\n",
    "x_col = np.linspace(xllcorner,xllcorner+cellsize*(xDim+1), xDim)\n",
    "y_col = np.linspace(yllcorner,yllcorner+cellsize*(yDim+1), yDim)\n",
    "y_col = np.flip(y_col)\n",
    "x, y = np.meshgrid(x_col,y_col)\n",
    "\n",
    "# defining a new bounding box for NE USA to be extracted from the shaded relief image\n",
    "latMin = 36\n",
    "latMax = 50\n",
    "lonMin = -98\n",
    "lonMax = -65\n",
    "\n",
    "# coordinates New York\n",
    "NY_lat = 40.730610\n",
    "NY_lon = -73.935242"
   ]
  },
  {
   "cell_type": "code",
   "execution_count": 24,
   "metadata": {
    "tags": []
   },
   "outputs": [
    {
     "data": {
      "image/png": "[encoded data removed]",
      "text/plain": [
       "<Figure size 432x288 with 2 Axes>"
      ]
     },
     "metadata": {
      "needs_background": "light"
     },
     "output_type": "display_data"
    }
   ],
   "source": [
    "\n",
    "### YOUR CODE HERE - Task B\n",
    "x_col_index = np.where((x_col>=lonMin) & (x_col<=lonMax))       #  defining the index for x_col subset data\n",
    "y_col_index = np.where((y_col>=latMin) & (y_col<=latMax))       #  defining the index for y_col subset data\n",
    "x_sub_grid,y_sub_grid = np.meshgrid(x_col[x_col_index],y_col[y_col_index])  # this creates meshgrids x and y of the subset data\n",
    "\n",
    "# creating a grid relief of data for plotting\n",
    "reliefUS_sub = reliefUS[y_col_index[0][0]:y_col_index[-1][-1]+1,x_col_index[0][0]:x_col_index[-1][-1]+1]\n",
    "\n",
    "# cordinates for the other selected locations, Blacksburg, Michigan, Vermont and Minnesota\n",
    "Blacksburg_lat = 37.2296\n",
    "Blacksburg_lon = -80.4139\n",
    "\n",
    "Michigan_lat = 41.7075\n",
    "Michigan_lon = -86.8950\n",
    "\n",
    "Vermont_lat = 44.5588\n",
    "Vermont_lon = -72.5778\n",
    "\n",
    "Minnesota_lat = 46.7296\n",
    "Minnesota_lon = -94.6859\n",
    "\n",
    "# plots the data\n",
    "plt.pcolormesh(x_sub_grid,y_sub_grid, reliefUS_sub, shading='auto',cmap='gray_r')\n",
    "cbar = plt.colorbar()\n",
    "plt.plot(NY_lon,NY_lat,\"wo\")                     # location or dot mark of New York city\n",
    "plt.plot(Blacksburg_lon,Blacksburg_lat,\"ro\")     # location or dot mark of Blacksburg \n",
    "plt.plot(Michigan_lon,Michigan_lat,\"bo\")         # location or dot mark of Michigan\n",
    "plt.plot(Vermont_lon,Vermont_lat,\"go\")           # location or dot mark of Vermont\n",
    "plt.plot(Minnesota_lon,Minnesota_lat,\"yo\")       # location or dot mark of Minnesota\n",
    "plt.text(NY_lon+0.5, NY_lat, 'New York', color=\"white\") # text for New York city\n",
    "plt.text(Blacksburg_lon+0.5, Blacksburg_lat, 'Blacksburg', color=\"white\") # text for Blacksburg city\n",
    "plt.text(Michigan_lon-6.5, Michigan_lat, 'Michigan', color=\"white\")       # text for Michigan \n",
    "plt.text(Vermont_lon-5.8, Vermont_lat, 'Vermont', color=\"white\")          # text for Vermont city\n",
    "plt.text(Minnesota_lon+0.5, Minnesota_lat, 'Minnesota', color=\"white\")    # text for Minnesota \n",
    "plt.xlabel('Longitude (deg)')          # x-axis label\n",
    "plt.ylabel('Latitude (deg)')           # y-axis label\n",
    "plt.title('Relief map of the USA')     # title\n",
    "cbar.set_label('Elevation in (m)')     # colorbar with label"
   ]
  },
  {
   "cell_type": "code",
   "execution_count": null,
   "metadata": {},
   "outputs": [],
   "source": []
  },
  {
   "cell_type": "code",
   "execution_count": null,
   "metadata": {},
   "outputs": [],
   "source": []
  }
 ],
 "metadata": {
  "kernelspec": {
   "display_name": "Python 3",
   "language": "python",
   "name": "python3"
  },
  "language_info": {
   "codemirror_mode": {
    "name": "ipython",
    "version": 3
   },
   "file_extension": ".py",
   "mimetype": "text/x-python",
   "name": "python",
   "nbconvert_exporter": "python",
   "pygments_lexer": "ipython3",
   "version": "3.8.5"
  }
 },
 "nbformat": 4,
 "nbformat_minor": 5
}
