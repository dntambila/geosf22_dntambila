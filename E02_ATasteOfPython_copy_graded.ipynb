{
 "cells": [
  {
   "cell_type": "markdown",
   "id": "fa1180f0-8aae-444a-9141-f08ed27851cc",
   "metadata": {},
   "source": [
    "Geo Data Science with Python,\n",
    "Prof. Susanna Werth, VT Geosciences\n",
    "\n",
    "---\n",
    "### Exercise 1\n",
    "\n",
    "# A taste of Python\n",
    "\n",
    "You will receive the following points for this exercise:\n",
    "\n",
    "- Correctly completing each of the four section below: 5 P\n",
    "- Successful submission of this exercse to GitHub: 50 P\n",
    "- Successful submission of E01 (during class): 10 P\n",
    "\n",
    "Total: 80\n",
    "\n",
    "---"
   ]
  },
  {
   "cell_type": "markdown",
   "id": "a9b1c09c-10c9-45db-a3d5-3cf82f56a6fb",
   "metadata": {
    "nbgrader": {
     "grade": false,
     "grade_id": "jupyter",
     "locked": true,
     "schema_version": 3,
     "solution": false
    }
   },
   "source": [
    "<div class=\"alert alert-warning\">\n",
    "\n",
    "This is a grading note!\n",
    "    \n",
    "    \n",
    "In future here will be your grading summary:\n",
    "- Task X: x/x points\n",
    "\n",
    "Further notes might be inserted below. They will always be entered in a similarily highlighted box.\n",
    "    \n",
    "</div>"
   ]
  },
  {
   "cell_type": "markdown",
   "id": "3520ab8f-f6aa-44ac-874d-741aa97e51e7",
   "metadata": {},
   "source": [
    "### Jupyter Notebook\n",
    "\n",
    "Create a new Markdown cell below this cell and add any text to it."
   ]
  },
  {
   "cell_type": "markdown",
   "id": "2298ede9-6fdb-4505-8aa1-2334f70e6953",
   "metadata": {},
   "source": [
    "---\n",
    "In Python you can use the print() function to print text to the screen, like this:\n",
    "```\n",
    "print('text')\n",
    "```\n",
    "Create a new Code cell below this cell and add Python code to print \"Hello, World!\" on the screen. "
   ]
  },
  {
   "cell_type": "markdown",
   "id": "7e6a1a0a-a61f-420d-82f3-a5c97187c782",
   "metadata": {},
   "source": [
    "---\n",
    "### Variable assignment\n",
    "\n",
    "In the code cell below, assign a variable 'var_a' with the integer value 4 and a second variable  'var_b' with a floating point value 2.0."
   ]
  },
  {
   "cell_type": "code",
   "execution_count": 11,
   "id": "225bd739-3443-41da-ab32-742ec6f246f0",
   "metadata": {},
   "outputs": [],
   "source": [
    "# Place your code on the line(s) below.\n"
   ]
  },
  {
   "cell_type": "markdown",
   "id": "49b40246-373b-4e2b-a951-53dc7392c374",
   "metadata": {},
   "source": [
    "In the code cell below, check the type of both variables."
   ]
  },
  {
   "cell_type": "code",
   "execution_count": 12,
   "id": "dacc0db2-a2ba-4af0-9cad-7a0578a630ea",
   "metadata": {},
   "outputs": [],
   "source": [
    "# Place your code on the line(s) below.\n"
   ]
  },
  {
   "cell_type": "markdown",
   "id": "7a3242e8-3ee4-4636-8644-f07b34e023b9",
   "metadata": {},
   "source": [
    "In the code cell below, check the type of both variables."
   ]
  },
  {
   "cell_type": "code",
   "execution_count": null,
   "id": "f979ffc4-3d98-432f-8c05-5b84077dfaf1",
   "metadata": {},
   "outputs": [],
   "source": [
    "# Place your code on the line(s) below.\n"
   ]
  },
  {
   "cell_type": "markdown",
   "id": "a7667497-985a-4d2c-b21f-d32646cac466",
   "metadata": {},
   "source": [
    "---\n",
    "### Check your understanding of variable types\n",
    "\n",
    "In the empty Python cell below, use the assigned variables from above to divide them and store the result in a third variable 'var_c'. Check its type using the `type()` function."
   ]
  },
  {
   "cell_type": "code",
   "execution_count": 13,
   "id": "1d27dcd0-b1cf-4e73-9732-550ebf755e6e",
   "metadata": {},
   "outputs": [],
   "source": [
    "# Place your code on the line(s) below.\n"
   ]
  },
  {
   "cell_type": "markdown",
   "id": "c9d18426-489d-40ea-9711-912f8fb99c7b",
   "metadata": {},
   "source": [
    "---\n",
    "Did you get what you expected? What does that tell you about compatibility of `int` and `float` variables?\n",
    "And what happens when you divide two `int` values? **Create a markdown cell below this cell and add your answers.**"
   ]
  },
  {
   "cell_type": "markdown",
   "id": "82db1a91-3e5d-40b4-af83-be440ded2cdd",
   "metadata": {},
   "source": [
    "---\n",
    "### The Zen of Python\n",
    "Type “import this” the code cell below, then run it and study the output!"
   ]
  },
  {
   "cell_type": "code",
   "execution_count": null,
   "id": "472113ec-fe56-42b4-8e30-41c580e79eed",
   "metadata": {},
   "outputs": [],
   "source": []
  },
  {
   "cell_type": "markdown",
   "id": "1144bc6a-d886-45e6-a4a5-2a00fce709c4",
   "metadata": {},
   "source": [
    "The import function usually adds packages to your interpreter. The package \"this\" simply spits out some text. This is an easter egg, which spells out Tim Peters' guidelines to the development of Python code. Source: https://www.python.org/dev/peps/pep-0020/. (BDFL stands for Benevolent Dictator for Life and refers to Guido van Rossum, the developer of Python.)"
   ]
  },
  {
   "cell_type": "markdown",
   "id": "178141a9-2ac8-40c1-a2db-42a352253a13",
   "metadata": {},
   "source": [
    "---\n",
    "\n",
    "After finishing this exercise save it and push (or upload) it to your homework repository."
   ]
  },
  {
   "cell_type": "code",
   "execution_count": null,
   "id": "6c62d4a8-0d97-483b-addb-e3bc8b82c8e5",
   "metadata": {},
   "outputs": [],
   "source": []
  }
 ],
 "metadata": {
  "kernelspec": {
   "display_name": "Python 3",
   "language": "python",
   "name": "python3"
  },
  "language_info": {
   "codemirror_mode": {
    "name": "ipython",
    "version": 3
   },
   "file_extension": ".py",
   "mimetype": "text/x-python",
   "name": "python",
   "nbconvert_exporter": "python",
   "pygments_lexer": "ipython3",
   "version": "3.8.8"
  }
 },
 "nbformat": 4,
 "nbformat_minor": 5
}
