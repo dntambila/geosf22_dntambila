{
 "cells": [
  {
   "cell_type": "markdown",
   "id": "ba686ffb",
   "metadata": {},
   "source": [
    "Geo Data Science with Python,\n",
    "Prof. Susanna Werth, VT Geosciences\n",
    "\n",
    "---\n",
    "# Exercise 7: Science Data - Midterm Take-Home Exam\n",
    "\n",
    "### Content & Grading\n",
    "\n",
    "You will receive the following points for this exercise:\n",
    "\n",
    "- **A.1**: *50 P* <a href='#pd'> Pandas </a>\n",
    "- **B**: *20 P* <a href='#bd'> Batch Download </a>\n",
    "- **C**: *20 P* <a href='#nc'> NetCDF4   </a>\n",
    "\n",
    "Total: \n",
    "- 90 points \n",
    "- **up to 15 extra credit points for reasonaby commenting your code** \n",
    "\n",
    "---\n",
    "### Important considerations for the exam\n",
    "- This is a take home exam. The due date will be announced on Canvas (about two weeks time).\n",
    "- You can work in a team of up to 2 people on this exam.\n",
    "- **If you work in a team, please indicate names of all collaborators above. And make a statement on individual contributions.** (Provide detail, who coded which part, and/or which parts you worked on together, and/or who wrote which part of the summary, etc.)!\n",
    "- This is an open book exam. You can use any literature or internet resources. We encourage you to search for helpful built-in functions or functions of the Python standard libraries (e.g. math) on the Python documentation pages (https://docs.python.org/3/) or open source tutorials.\n",
    "- If you use external references for your code solutions, please document this with your answers and/or in comments throughout the script file.\n",
    "---"
   ]
  },
  {
   "cell_type": "markdown",
   "id": "9d89e40e",
   "metadata": {},
   "source": [
    "### Name and Collaborator\n",
    "Add your name and the name of any collaborator in the code cell below."
   ]
  },
  {
   "cell_type": "code",
   "execution_count": 1,
   "id": "ade92c9d",
   "metadata": {},
   "outputs": [],
   "source": [
    "Name = 'Ntambila Daud'\n",
    "Collaborators = ['None']"
   ]
  },
  {
   "cell_type": "markdown",
   "id": "7c8ac50b-e122-41ae-8eed-8b6e22bf5b08",
   "metadata": {},
   "source": [
    "---\n",
    "---\n",
    "<a id='pd'></a>\n",
    "# A. Pandas: Analyze Population Predictions \n",
    "\n",
    "### Overview\n",
    "\n",
    "Code that reads UN population prediction data from file into a Pandas data frame and  anlyze the data, to answer given questions. The results of the data analysis should be summarized in a markdown cell.\n"
   ]
  },
  {
   "cell_type": "markdown",
   "id": "d044c9d4-1fac-4884-8ac5-7d9d12c6df4e",
   "metadata": {},
   "source": [
    "### Data set\n",
    "\n",
    "We will analyze future prediction of annual total population for different countries and regions around the world stored in the file **WPP2019_INTHOUSAND.txt**. The file is stored in the folder **./data** of the homework repository (**geosf22_material**).\n",
    "\n",
    "The data were retrieved from the UN website https://population.un.org/wpp/Download/Standard/Population/.\n",
    "\n",
    "- We are using the medium variant predictions for \"Total Population - Both Sexes\" for the years 2020 to 2100.\n",
    "- The data are stored in the comma-separated text file WPP2019_INTHOUSANDS.txt\n",
    "- Population numbers are given in unit of thousand, hence, a population of 1 in the file stands for 1000 people.\n",
    "\n",
    "The file contains one header line: \n",
    "```txt\n",
    "Region-subregion-country-or-area, 2022, 2023, ..., 2010\n",
    "```\n",
    "\n",
    "All following lines/rows contain population estimates for countries/region for the years 2020-2100. The first entry in each line indicates name of the country/region and all following entries contain the population number for this region/country and for the year (corresponding to the column indicated in the file header). \n",
    "\n",
    "For example the second entry indicates population estimate of 11891 (Eleventhousand-and-eighthundredninetyone) for the year 2020. \n",
    "```txt\n",
    "Burundi, 11 891,   12 255, ..., 50 904\n",
    "```\n",
    "\n",
    "Note that the populuation numbers are stored in a way, that there is a space between the third and the fourth digit. Make sure to correctly read the numbers, before analyzing the data.\n"
   ]
  },
  {
   "cell_type": "markdown",
   "id": "65d752cd-f0ee-4967-b9d6-e89849315dd2",
   "metadata": {},
   "source": [
    "---\n",
    "### A.1 Write functions for importing this dataset\n",
    "\n",
    "Add your code in the following code cell, to:\n",
    "\n",
    "- Import neccessary modules or functions.\n",
    "\n",
    "- Write a function `readUNpopData` that reads the dataset from the file `WPP2019_INTHOUSANDS.txt` into a pandas data frame and returns that data frame at the end of the function run.\n",
    "\n",
    "- Write a function `selectCountry` that requests user input at the beginning of the program that requests a country of interest to be analyzed later on.\n",
    "\n",
    "- Add a docstring to all functions.\n",
    "\n",
    "- Add comments throughout your code to increase readability.\n",
    "\n",
    "Note: put the code for this tasks in the code cell below, then move on to the next task."
   ]
  },
  {
   "cell_type": "code",
   "execution_count": 4,
   "id": "d3e7ba8b-c60e-45a7-9e69-7cd925c12b95",
   "metadata": {},
   "outputs": [
    {
     "name": "stdout",
     "output_type": "stream",
     "text": [
      "file opened, now writing header to a list ...\n",
      "file opened, now writing data to a list of lists ...\n",
      "['Region-subregion-country-or-area', '2020', '2021', '2022', '2023', '2024', '2025', '2026', '2027', '2028', '2029', '2030', '2031', '2032', '2033', '2034', '2035', '2036', '2037', '2038', '2039', '2040', '2041', '2042', '2043', '2044', '2045', '2046', '2047', '2048', '2049', '2050', '2051', '2052', '2053', '2054', '2055', '2056', '2057', '2058', '2059', '2060', '2061', '2062', '2063', '2064', '2065', '2066', '2067', '2068', '2069', '2070', '2071', '2072', '2073', '2074', '2075', '2076', '2077', '2078', '2079', '2080', '2081', '2082', '2083', '2084', '2085', '2086', '2087', '2088', '2089', '2090', '2091', '2092', '2093', '2094', '2095', '2096', '2097', '2098', '2099', '2100']\n"
     ]
    }
   ],
   "source": [
    "# ADD YOUR CODE - B.1\n",
    "\n",
    "# importing packages to be used\n",
    "import numpy as np\n",
    "import pandas as pd\n",
    "import math as ma\n",
    "\n",
    "def readUNpopData(path,filetype,out):\n",
    "    \"\"\"\n",
    "    Function is used to read a text file and returns the header-line as a list and data as a list of lists.\n",
    "    The header and data are read independently as lists.\n",
    "\n",
    "    Parameters/input\n",
    "    ----------------\n",
    "    path: <string>\n",
    "        The path to the file without the filetype.\n",
    "    filetype: <string>\n",
    "        The file type, enter either 'txt' or 'csv'.\n",
    "    ret: <string>\n",
    "        out takes either 'header' or 'data' returns either the list for the header or data .\n",
    "\n",
    "    Returns/output\n",
    "    --------------\n",
    "    header: <list>\n",
    "        List of the header line.\n",
    "    data: <list>\n",
    "        List of lists for the data line.\n",
    "    \n",
    "     References:\n",
    "     https://www.geeksforgeeks.org/how-to-read-text-file-into-list-in-python\n",
    "     https://realpython.com/read-write-files-python\n",
    "     https://www.geeksforgeeks.org/reading-writing-text-files-python\n",
    "     https://stackoverflow.com/questions/61404473/create-a-list-of-lists-from-reading-a-text-file\n",
    "     https://www.geeksforgeeks.org/calculate-the-average-variance-and-standard-deviation-in-python-using-numpy\n",
    "    \"\"\"\n",
    "    path2 = path+'.'+filetype #saves the file name\n",
    "    # except error handling when opening a data-file\n",
    "    try:\n",
    "        rd = open(path2,'r') # opening the file\n",
    "        if out == 'header':\n",
    "            print(\"file opened, now writing header to a list ...\")\n",
    "        elif out =='data':\n",
    "            print(\"file opened, now writing data to a list of lists ...\")\n",
    "    except IOError:\n",
    "        print(\"Error: can\\'t find data file!\")\n",
    "    header2 = rd.readline() # header information saved as a variables\n",
    "    header = header2.split(\",\") # separates the list into a list using the comma\n",
    "    header[-1] = header[-1].replace('\\n','') # removes the trailing \\n in the header\n",
    "    data2 = rd.readlines() # read other variable and saves it as a list of lists\n",
    "    data = [sep.split(\",\") for sep in data2] # separates the list into a list using the comma\n",
    "    # The for-loop for the entire data\n",
    "    for i in range(len(data)):\n",
    "        [i][-1] = data[i][-1].replace('\\n','') # deletes the trailing \\n in the header\n",
    "        data[i][1:]=[x.replace(' ','') for x in data[i][1:]]\n",
    "        data[i][1:]=[(int(x)*1000) for x in data[i][1:]]\n",
    "    rd.close() # closes the file\n",
    "    # conditional to returns header and data\n",
    "    if out == 'header': \n",
    "        return header\n",
    "    elif out =='data':\n",
    "        return data\n",
    "header = readUNpopData('WPP2019_INTHOUSAND','txt','header') \n",
    "data = readUNpopData('WPP2019_INTHOUSAND','txt','data') \n",
    "print(header) "
   ]
  },
  {
   "cell_type": "markdown",
   "id": "2564c58a-d7bb-493d-adf7-eef105949d26",
   "metadata": {
    "tags": []
   },
   "source": [
    "---\n",
    "### A.2 Data Analysis\n",
    "\n",
    "In the code cell below, first use the functions above to actually import the data, and request one country/region name from user input.\n",
    "\n",
    "Then write code to answer the following questions:\n",
    "\n",
    "1. What was the estimated total world population in 2020?\n",
    "\n",
    "2. What is the predicted total world population in 2050 and 2100?\n",
    "\n",
    "3. What is the population increase of the total world population from now (2020) to 2050 and 2100 (in percentage)?\n",
    "\n",
    "4. Which three countries are expected to contain the largest population in 10 years.\n",
    "\n",
    "5. For the country/region name received from the user input request, retrieve a subset of the pandas data frame and return the population numbers for 2020, 2050 and 2100 for this country/region.\n",
    "\n",
    "6. What is the current population and expected population increase in percentage by 2100 for USA, China, India, Nigeria, Egypt, Brazil, Australia, France, Turkey ? (Code this analysis as a loop over a list of these countries, instead of copying-pasting your code for each country).\n",
    "\n",
    "7. Which country is expected to grow the fastest until 2100 (in percentage, relative to their population in 2020).\n",
    "\n",
    "8. What is the mean and standard deviation for percentage growth rates for all countries (worldwide) from today until 2100? \n"
   ]
  },
  {
   "cell_type": "code",
   "execution_count": 2,
   "id": "2f50f1ba-648a-48a1-9f29-5882b50a4289",
   "metadata": {},
   "outputs": [
    {
     "name": "stdout",
     "output_type": "stream",
     "text": [
      "file exists\n",
      "file opened ready to use\n",
      "['Region-subregion-country-or-area', '2020', '2021', '2022', '2023', '2024', '2025', '2026', '2027', '2028', '2029', '2030', '2031', '2032', '2033', '2034', '2035', '2036', '2037', '2038', '2039', '2040', '2041', '2042', '2043', '2044', '2045', '2046', '2047', '2048', '2049', '2050', '2051', '2052', '2053', '2054', '2055', '2056', '2057', '2058', '2059', '2060', '2061', '2062', '2063', '2064', '2065', '2066', '2067', '2068', '2069', '2070', '2071', '2072', '2073', '2074', '2075', '2076', '2077', '2078', '2079', '2080', '2081', '2082', '2083', '2084', '2085', '2086', '2087', '2088', '2089', '2090', '2091', '2092', '2093', '2094', '2095', '2096', '2097', '2098', '2099', '2100']\n"
     ]
    },
    {
     "name": "stdin",
     "output_type": "stream",
     "text": [
      "Select a country of your interest to be analyzed:\n",
      " United Republic of Tanzania\n"
     ]
    },
    {
     "name": "stdout",
     "output_type": "stream",
     "text": [
      "\n",
      "1.The estimated total world population for 2020 is 7794803000.\n",
      "\n",
      "2.The estimated total world population in 2050 and 2100 are 9735031000 and 10875389000 respectively.\n",
      "\n",
      "3.The population increase from 2020 to 2050 is 24.89%.\n",
      "The population increase from 2020 to 2100 is 39.52%.\n",
      "\n",
      "4.The three countries expected to contain the largest population in 10 years from 2022 are India, China, and United States of America respectively.\n",
      "\n",
      "5.The population of United Republic of Tanzania for the years 2020, 2050, and 2100 are 59734000, 129387000, and 285652000 repectively.\n",
      "\n",
      "6.The current population of United States of America in 2022 is 334805000 and the expected population increase by 2100 is 29.58%.\n",
      "\n",
      "6.The current population of China in 2022 is 1448471000 and the expected population increase by 2100 is -26.47%.\n",
      "\n",
      "6.The current population of India in 2022 is 1406632000 and the expected population increase by 2100 is 2.87%.\n",
      "\n",
      "6.The current population of Nigeria in 2022 is 216747000 and the expected population increase by 2100 is 238.16%.\n",
      "\n",
      "6.The current population of Egypt in 2022 is 106157000 and the expected population increase by 2100 is 111.7%.\n",
      "\n",
      "6.The current population of Brazil in 2022 is 215354000 and the expected population increase by 2100 is -16.1%.\n",
      "\n",
      "6.The current population of Australia in 2022 is 26069000 and the expected population increase by 2100 is 64.48%.\n",
      "\n",
      "6.The current population of France in 2022 is 65585000 and the expected population increase by 2100 is -0.13%.\n",
      "\n",
      "6.The current population of Turkey in 2022 is 85562000 and the expected population increase by 2100 is 0.71%.\n",
      "\n",
      "7.The country expected to grow the fastest from 2020 until 2100 is Niger at a percentage rate of 581.4%.\n",
      "\n",
      "8.The mean and standard deviation for the percentage growth rates for all counties (worldwide) are 48.58% and 100.62% respectively.\n"
     ]
    }
   ],
   "source": [
    "\n",
    "# ADD YOUR CODE - B.2\n",
    "%run PopuAnalysis.py"
   ]
  },
  {
   "cell_type": "markdown",
   "id": "b04e6e8c-aa6e-4a5d-a147-019ba793d384",
   "metadata": {},
   "source": [
    "---\n",
    "### A.3 Summary\n",
    "\n",
    "In the markdown cell below, provide a reasonable summery for all the data analysis questions."
   ]
  },
  {
   "cell_type": "markdown",
   "id": "81f1562a-ee20-4d48-b559-63718254666a",
   "metadata": {},
   "source": [
    "### ---\n",
    "\n",
    "**ADD YOUR ANSWERS FOR A.3 IN THIS MARKDOWN CELL !!!**\n",
    "\n",
    "### ---\n",
    "The data analysis show that, the World population is increasing progressively in which the developed countries such as India, China and USA are expected to have the largest population. However, some of the developing countries such as Nigeria and Egypt their population are growing faster with Niger whose population is growing fastest than all countries\n"
   ]
  },
  {
   "cell_type": "markdown",
   "id": "537b9603-5c0d-4526-8d07-0529a571b81f",
   "metadata": {
    "tags": []
   },
   "source": [
    "---\n",
    "<a id='bd'></a>\n",
    "# B. Batch Download\n",
    "\n",
    "### Overview\n",
    "Often it is necessary to download multiple file with the same name, except for a running number or date. For example imagine to download a time series of global maps, where each sample in time is stored in a separate file. If you have do download daily data for a year, that would already make 365 files. In this case it would be best to do a batch download, hence, write a loop, that automatically generates all neded file names and downloads them one by one.\n",
    "\n",
    "Here we will perform an example batch download of ~10 files."
   ]
  },
  {
   "cell_type": "markdown",
   "id": "0386a870-6de0-48f5-a722-d7d4c4628bd4",
   "metadata": {
    "tags": []
   },
   "source": [
    "### Data\n",
    "Source: http://test.opendap.org/opendap/hyrax/data/ff/\n",
    "\n",
    "This server provides multiple test files named `testN.dat`, with N running from 0 to 11. But file #5 and #6 are missing."
   ]
  },
  {
   "cell_type": "markdown",
   "id": "6cec9fed-eb6e-4a50-9d65-70e0833a18a5",
   "metadata": {
    "tags": []
   },
   "source": [
    "### Task: \n",
    "\n",
    "1) Write code to batch download all the test files in a loop from 0-11 (for all files) and from the website provided above, store them in a separate folder, e.g., `./out`. First, write the batch download only, then expand your code  with the next task.\n",
    "2) Include a missing-file error handling, for missing files in the batch, without assuming you know, which files are missing. For that, a code example is provided below, it makes use of the following features:\n",
    "    - function raise_for_status(): returns an HTTPError object if an error has occurred during the download process, e.g., if the file does not exist.\n",
    "    - try/except: these statements are an example for an exception-handling. The except-sequence will be executed if the try-sequence raises any error, otherwise the except-sequence is skipped. This is not a loop and a try/except sequence alone will be performed only once.\n",
    "    - then combine the try/except error handling with the batch download, to theck for the HTTPError for every download\n",
    "    "
   ]
  },
  {
   "cell_type": "code",
   "execution_count": 9,
   "id": "ca3ae8b7-36dc-43e8-a6b6-06bb0f80a56f",
   "metadata": {},
   "outputs": [
    {
     "name": "stdout",
     "output_type": "stream",
     "text": [
      "A download error occured for filetes5.dat\n"
     ]
    }
   ],
   "source": [
    "# Code example for download error handling\n",
    "import requests\n",
    "\n",
    "\n",
    "fname = 'tes5.dat'\n",
    "url = 'http://test.opendap.org/opendap/hyrax/data/ff/' + fname\n",
    "outpath = './out/' + fname\n",
    "\n",
    "try:\n",
    "    r = requests.get(url)\n",
    "    open(outpath, \"wb\").write(r.content)\n",
    "    r.raise_for_status()\n",
    "    print(fname)\n",
    "except: # this will be executed if the sequence above raises an error\n",
    "    print('A download error occured for file' + fname)"
   ]
  },
  {
   "cell_type": "code",
   "execution_count": 8,
   "id": "1aa27202-8cdd-4260-896d-a775147325ea",
   "metadata": {
    "tags": []
   },
   "outputs": [
    {
     "name": "stdout",
     "output_type": "stream",
     "text": [
      "test0.dat\n",
      "test1.dat\n",
      "test2.dat\n",
      "test3.dat\n",
      "test4.dat\n",
      "A download error occured for filetest5.dat\n",
      "A download error occured for filetest6.dat\n",
      "test7.dat\n",
      "test8.dat\n",
      "test9.dat\n",
      "test10.dat\n",
      "test11.dat\n"
     ]
    }
   ],
   "source": [
    "\n",
    "### YOUR CODE HERE\n",
    "# Code example for download error handling\n",
    "import requests\n",
    "for i in range(0,12): \n",
    "    fname = 'test'+str(i)+'.dat'\n",
    "    url = 'http://test.opendap.org/opendap/hyrax/data/ff/' + fname\n",
    "    outpath = './out/' + fname\n",
    "\n",
    "    try:\n",
    "        r = requests.get(url)\n",
    "        open(outpath, \"wb\").write(r.content)\n",
    "        r.raise_for_status()\n",
    "        print(fname)\n",
    "    except: # this will be executed if the sequence above raises an error\n",
    "        print('A download error occured for file' + fname)"
   ]
  },
  {
   "cell_type": "markdown",
   "id": "4bd3ed30-f99f-4510-9e0a-ad16cb520f4a",
   "metadata": {
    "nbgrader": {
     "grade": false,
     "grade_id": "cell-Dtask",
     "locked": true,
     "schema_version": 3,
     "solution": false,
     "task": false
    }
   },
   "source": [
    "---\n",
    "<a id='nc'></a>\n",
    "# C. NetCDF4\n",
    "\n",
    "### Overview\n",
    "Download and read a netCDF file, calculate a map statistic and plot the result.\n",
    "\n",
    "### Tasks\n",
    "\n",
    "Download the netCDF file `tos_O1_2001-2002.nc` from the server https://www.unidata.ucar.edu/software/netcdf/examples/tos_O1_2001-2002.nc. Then read the data from the file and calculate the maximum sea surface temperature during the year 2001 for each gridpoint. Then print the resulting map. For guidance and to receive full points, follow these next steps:\n",
    "\n",
    "* Import the package `Dataset` from the module netCDF4 (1 point)\n",
    "* Read the netcdf dataset from the file `tos_O1_2001-2002.nc` and save the content to the variable `data` (1 point)\n",
    "* Print out the information of the data set to get an overview\n",
    "* Assign the data content to the variable `lat`, `lon`, `time`, `tos`. Consider to select the correct object from the masked arrays, if needed (extract the data object). (2 points)\n",
    "* Close the netCDF dataset/file (1 point)\n",
    "* Convert the 1D lat/lon arrays to a meshgrid arrays and save them to the variables `lat_grid` and `lon_grid` (2 points)\n",
    "* Converting missing values in '`tos` data to `np.nan` (convert to Celsius or leave at Kelvin, as you prefer) (1 point)\n",
    "* Use vectorized code with the function `np.amax()` (allows to set an axis) to retrieve the maximum sea surface temperature during the year 2001 for each data pixel and save the results in a new map `tos_max2001` (6 points)\n",
    "* Make a simple plot the new map `tos_max` with labeled coordinate axes and a colorbar with the colormap `'viridis'`. No further labeling needed (1 point)"
   ]
  },
  {
   "cell_type": "code",
   "execution_count": 10,
   "id": "5f96895a-20bc-495f-b95a-84bc0f95cf80",
   "metadata": {},
   "outputs": [],
   "source": [
    "\n",
    "### YOUR CODE HERE\n",
    "import wget\n",
    "# downloading the file tos_O1_2001-2002.nc\n",
    "filename = 'tos_O1_2001-2002.nc'  # defining the filename\n",
    "url = 'https://www.unidata.ucar.edu/software/netcdf/examples/' + filename  # defining the url\n",
    "response = wget.download(url, filename)  # downloading the file using wget"
   ]
  },
  {
   "cell_type": "code",
   "execution_count": 11,
   "id": "53e896b1-0225-4e6d-bd92-ee845db00e6d",
   "metadata": {},
   "outputs": [
    {
     "name": "stdout",
     "output_type": "stream",
     "text": [
      "<class 'netCDF4._netCDF4.Dataset'>\n",
      "root group (NETCDF3_CLASSIC data model, file format NETCDF3):\n",
      "    title: IPSL  model output prepared for IPCC Fourth Assessment SRES A2 experiment\n",
      "    institution: IPSL (Institut Pierre Simon Laplace, Paris, France)\n",
      "    source: IPSL-CM4_v1 (2003) : atmosphere : LMDZ (IPSL-CM4_IPCC, 96x71x19) ; ocean ORCA2 (ipsl_cm4_v1_8, 2x2L31); sea ice LIM (ipsl_cm4_v\n",
      "    contact: Sebastien Denvil, sebastien.denvil@ipsl.jussieu.fr\n",
      "    project_id: IPCC Fourth Assessment\n",
      "    table_id: Table O1 (13 November 2004)\n",
      "    experiment_id: SRES A2 experiment\n",
      "    realization: 1\n",
      "    cmor_version: 0.96\n",
      "    Conventions: CF-1.0\n",
      "    history: YYYY/MM/JJ: data generated; YYYY/MM/JJ+1 data transformed  At 16:37:23 on 01/11/2005, CMOR rewrote data to comply with CF standards and IPCC Fourth Assessment requirements\n",
      "    references: Dufresne et al, Journal of Climate, 2015, vol XX, p 136\n",
      "    comment: Test drive\n",
      "    dimensions(sizes): lon(180), lat(170), time(24), bnds(2)\n",
      "    variables(dimensions): float64 lon(lon), float64 lon_bnds(lon, bnds), float64 lat(lat), float64 lat_bnds(lat, bnds), float64 time(time), float64 time_bnds(time, bnds), float32 tos(time, lat, lon)\n",
      "    groups: \n"
     ]
    }
   ],
   "source": [
    "import netCDF4\n",
    "import numpy as np\n",
    "import matplotlib.pyplot as plt\n",
    "\n",
    "from netCDF4 import Dataset   # importing Dataset from the module netCDF4\n",
    "# reads the netcdf dataset and save the content to the variable data\n",
    "data = Dataset('tos_O1_2001-2002.nc') \n",
    "\n",
    "print(data) # print out the information of the data set to get an overview\n",
    "\n",
    "# Assign the data content to the variable lat, lon, time, tos\n",
    "lat=data.variables['lat'][:].data   # saves latitudes\n",
    "lon=data.variables['lon'][:].data   # saves longitudes\n",
    "tos=data.variables['tos'][:].data   # saves tos variables\n",
    "time=data.variables['time'][:].data # saves tos variables\n",
    "tos_mask = data.variables['tos'][:].mask\n",
    "fillvalue = data.variables['tos']._FillValue # assigns variable for missing value to a variable\n",
    "tos_temp_unit = data.variables['tos'].units\n",
    "data.close()  # closing the netCDF dataset/file\n",
    "lon_grid,lat_grid = np.meshgrid(lon,lat) # converts the 1D lon/lat arrays to a meshgrid arrays\n",
    "tos[tos==fillvalue] = np.nan  # converts missing values in tos data to np.nan"
   ]
  },
  {
   "cell_type": "code",
   "execution_count": 12,
   "id": "2043c468-979b-4a6b-817b-cc138ccc3ffd",
   "metadata": {},
   "outputs": [
    {
     "name": "stdout",
     "output_type": "stream",
     "text": [
      "K\n"
     ]
    }
   ],
   "source": [
    "# checking for the unit\n",
    "print(tos_temp_unit)"
   ]
  },
  {
   "cell_type": "code",
   "execution_count": 13,
   "id": "e9e2fd3c-8019-4413-bc0f-0473b22e94a7",
   "metadata": {},
   "outputs": [
    {
     "name": "stderr",
     "output_type": "stream",
     "text": [
      "/var/folders/xz/_7ycqcqj00336gt47llq35ww0000gr/T/ipykernel_3305/3653676898.py:6: RuntimeWarning: All-NaN slice encountered\n",
      "  tos_max2001[n][m] = np.nanmax(tos[:length_2001,n,m])\n"
     ]
    }
   ],
   "source": [
    "length_2001 = len(time[time<=365])  # time for the year 2001\n",
    "tos_max2001 =np.zeros((len(lat),len(lon))) # forms a 2 by 2 array matrix for the max value\n",
    "\n",
    "for n in range(len(lat)):\n",
    "    for m in range(len(lon)):\n",
    "        tos_max2001[n][m] = np.nanmax(tos[:length_2001,n,m])"
   ]
  },
  {
   "cell_type": "code",
   "execution_count": 14,
   "id": "b220ca9e-09ef-4f2d-a5d0-ce301439da9e",
   "metadata": {},
   "outputs": [
    {
     "data": {
      "image/png": "[encoded data removed]",
      "text/plain": [
       "<Figure size 576x432 with 2 Axes>"
      ]
     },
     "metadata": {
      "needs_background": "light"
     },
     "output_type": "display_data"
    }
   ],
   "source": [
    "# plotting data into map\n",
    "fig = plt.figure(figsize=(8, 6))  # defining size of the map\n",
    "plt.pcolormesh(lon_grid,lat_grid,tos_max2001, shading='auto',cmap='viridis') \n",
    "plt.xlabel('Longitude (deg)')          # x-axis label\n",
    "plt.ylabel('Latitude (deg)')           # y-axis label\n",
    "plt.title('Maximum sea surface temperature during the year 2001')   # title\n",
    "cbar = plt.colorbar()\n",
    "cbar.set_label('Temperature [\\N{DEGREE SIGN}F]')  "
   ]
  },
  {
   "cell_type": "code",
   "execution_count": null,
   "id": "fb6a55ac-e0e1-4ecc-a8a4-96e934818c55",
   "metadata": {},
   "outputs": [],
   "source": []
  }
 ],
 "metadata": {
  "kernelspec": {
   "display_name": "Python 3 (ipykernel)",
   "language": "python",
   "name": "python3"
  },
  "language_info": {
   "codemirror_mode": {
    "name": "ipython",
    "version": 3
   },
   "file_extension": ".py",
   "mimetype": "text/x-python",
   "name": "python",
   "nbconvert_exporter": "python",
   "pygments_lexer": "ipython3",
   "version": "3.9.7"
  }
 },
 "nbformat": 4,
 "nbformat_minor": 5
}
