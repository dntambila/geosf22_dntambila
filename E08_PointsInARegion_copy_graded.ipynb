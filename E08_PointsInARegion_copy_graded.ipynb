{
 "cells": [
  {
   "cell_type": "markdown",
   "metadata": {},
   "source": [
    "Geo Data Science with Python,\n",
    "Prof. Susanna Werth, VT Geosciences\n",
    "\n",
    "---\n",
    "# Exercise 8: Selecting points inside a boundary\n",
    "\n",
    "### Content & Grading\n",
    "\n",
    "You will receive the following points for this exercise:\n",
    "\n",
    "- **Part A**: *10 P* - <a href='#partA'> Shapely </a>\n",
    "- **Part B**: *40 P* - <a href='#partB'> Region Statistics for downloaded data </a>\n",
    "- **Part C**: *30 P* - <a href='#partC'> Data Filtering & SVD </a>\n",
    "\n",
    "Total: \n",
    "- 80 points \n",
    "- **up to 15 extra credit points for reasonaby commenting & structuring your code** \n",
    "\n",
    "---"
   ]
  },
  {
   "cell_type": "markdown",
   "metadata": {},
   "source": [
    "### Name and Collaborator\n",
    "Add your name and the name of any collaborator in the code cell below."
   ]
  },
  {
   "cell_type": "code",
   "execution_count": 1,
   "metadata": {},
   "outputs": [],
   "source": [
    "Name = 'Ntambila Daud'\n",
    "Collaborators = ['None']"
   ]
  },
  {
   "cell_type": "markdown",
   "metadata": {
    "tags": []
   },
   "source": [
    "<div class=\"alert alert-warning\">\n",
    "\n",
    "**Grades:** \n",
    "\n",
    "Total points: **95**/80\n",
    "    \n",
    "- Part A: 10/10\n",
    "- Part B: 40/40\n",
    "- Part C: 30/30\n",
    "- ExtCrd: 15/15\n",
    "\n",
    "Excellent Job!\n",
    "\n",
    "Signed: Susanna Werth\n",
    "    \n",
    "    \n",
    "</div>\n"
   ]
  },
  {
   "cell_type": "markdown",
   "metadata": {},
   "source": [
    "<div class=\"alert alert-warning\">\n",
    "\n",
    "**Additional Grading Notes:** \n",
    "\n",
    "Some more comments might be provided below for answers without full points. If there are no comments, your answer is correct.\n",
    "        \n",
    "\n",
    "    \n",
    "\n",
    "\n",
    "    \n",
    "    \n",
    "</div>\n",
    "\n"
   ]
  },
  {
   "cell_type": "markdown",
   "metadata": {
    "nbgrader": {
     "grade": false,
     "grade_id": "cell-Ctask",
     "locked": true,
     "points": 0,
     "schema_version": 3,
     "solution": false,
     "task": true
    }
   },
   "source": [
    "---\n",
    "---\n",
    "# Part A: Find out which points locate inside a region\n",
    "<a id='partA'></a>\n",
    "\n",
    "In the code cell below, you have given x and y coordiantes of two points p1 and p2 as well as an array containing a nested list of coordinate pairs. The data are defined in a code cell below this task. You are supposed to automatically test, whether the two points lcoate inside the polygon using Python code. For that you have to convert the points and the polygonArray to shapely objects and use the correct shapely function to assing the test result to two variables `test` and `test2`. In detail, perform the following steps:\n",
    "\n",
    "* Import the objects **Point** and **Polygon** from the package shapely.geometry in the way, that you do not need any prefix to use the objects Point and Polygon (1 point)\n",
    "* Define two points `p1` and `p2` as shapely Points, given the data below (2 points)\n",
    "* Convert the polygon given by the variable `polygonArray` to a list of tuples holding coordinate pairs and save them in the variable `PolygonList`. The structure of the list should be appropriate to serve as input for the shapely object Polygon in the next step. (3 points)\n",
    "* Define a shapely polygon `poly1` using the coordinates stored in `PolygonList` (1 point)\n",
    "* Check whether point `p1` and point `p2` locate in the polygon `poly1` and assign the test results to the variables `polytest1` and `polytest2`, respectively (2 points)\n",
    "\n",
    "Fill your code in the answer code cell below. Make sure to comment your code well!!! Use the same variable names as stated in the task."
   ]
  },
  {
   "cell_type": "code",
   "execution_count": 1,
   "metadata": {
    "nbgrader": {
     "grade": false,
     "grade_id": "cell-Ccode",
     "locked": true,
     "schema_version": 3,
     "solution": false,
     "task": false
    }
   },
   "outputs": [],
   "source": [
    "import numpy as np\n",
    "\n",
    "# x and y coordinates of two points, given as numbers\n",
    "p1_y = 24.952242\n",
    "p1_x = 60.1696017\n",
    "p2_y = 24.976567\n",
    "p2_x = 60.1612500\n",
    "\n",
    "# x and y coordinates of 4 points defining a polygon, given as a numpy array [y,x]\n",
    "polygonArray = np.array([[24.950899, 60.169158], [24.953492, 60.169158], [24.953510,60.170104], [24.950958,60.169990]])"
   ]
  },
  {
   "cell_type": "code",
   "execution_count": 2,
   "metadata": {},
   "outputs": [],
   "source": [
    "\n",
    "### YOUR CODE HERE\n",
    "from shapely.geometry import Point, Polygon\n",
    "\n",
    "# defining the two points p1 and p2 as shapely Point\n",
    "p1 = Point(p1_y, p1_x) # defines point p1 with coordinate y,x\n",
    "p2 = Point(p2_y, p2_x) # defines point p2 with coordinate y,x\n",
    "\n",
    "# Converting the given polygonArray to a list of tuples and save them in the variable PolygonList\n",
    "PolygonList = []  # initalializes PolygonList with empty\n",
    "for j in range(len(polygonArray)):\n",
    "    PolygonList.append(tuple(polygonArray[j,:]))\n",
    "\n",
    "\n",
    "poly1 = Polygon(PolygonList)  # defines a shapely polygon poly1 using the coordinates stored in PolygonList\n",
    "\n",
    "# Checking whether point p1 and point p2 locate in the polygon poly1\n",
    "polytest1 = poly1.contains(p1) # test if p1 is within poly1 or not\n",
    "polytest2 = poly1.contains(p2) # test if p2 is within poly1 or not\n",
    "# Alternatively I can use \"within\" function\n",
    "polytest1 = p1.within(poly1)\n",
    "polytest2 = p2.within(poly1)"
   ]
  },
  {
   "cell_type": "code",
   "execution_count": 3,
   "metadata": {},
   "outputs": [
    {
     "data": {
      "image/svg+xml": [
       "<svg xmlns=\"http://www.w3.org/2000/svg\" xmlns:xlink=\"http://www.w3.org/1999/xlink\" width=\"100.0\" height=\"100.0\" viewBox=\"24.95079456 60.16905356 0.0028198800000041047 0.0011548800000014126\" preserveAspectRatio=\"xMinYMin meet\"><g transform=\"matrix(1,0,0,-1,0,120.339262)\"><path fill-rule=\"evenodd\" fill=\"#66cc99\" stroke=\"#555555\" stroke-width=\"5.639760000008209e-05\" opacity=\"0.6\" d=\"M 24.950899,60.169158 L 24.953492,60.169158 L 24.95351,60.170104 L 24.950958,60.16999 L 24.950899,60.169158 z\" /></g></svg>"
      ],
      "text/plain": [
       "<shapely.geometry.polygon.Polygon at 0x107ff32e0>"
      ]
     },
     "execution_count": 3,
     "metadata": {},
     "output_type": "execute_result"
    }
   ],
   "source": [
    "poly1"
   ]
  },
  {
   "cell_type": "code",
   "execution_count": 4,
   "metadata": {},
   "outputs": [
    {
     "name": "stdout",
     "output_type": "stream",
     "text": [
      "Test for point 1; p1 is True.\n",
      "Test for point 2; p2 is False.\n"
     ]
    }
   ],
   "source": [
    "# Print out the results of your test\n",
    "print('Test for point 1; p1 is {}.' .format(polytest1))\n",
    "print('Test for point 2; p2 is {}.' .format(polytest2))"
   ]
  },
  {
   "cell_type": "markdown",
   "metadata": {},
   "source": [
    "---\n",
    "# Part B: Calculate statistics for a geographical region\n",
    "<a id='partB'></a>\n",
    "\n",
    "In this task, you should retrieve a gridded dataset and calculate mean of one of three variables (surface temperature, snowfall **or** evaporation) within the state of California and Utah, during the month of January 2021.\n",
    "\n",
    "\n",
    "### You have given:\n",
    "\n",
    "- Link to the file containing one month GLDAS NOAH model simulations from NASA's GESDISC OpenDAP server defined as url below. Note: the dataset contains only one grid, we will not do any time series analysis, only work with the spatial (lat/lon) dimensions.\n",
    "- A file containing the boundary of California and Utah: boundary_CA.csv, boundary_UT.csv\n",
    "- Bounding box of the study region (encompassing both regions and a buffer):\n",
    "    - minLat = 28\n",
    "    - maxLat = 45\n",
    "    - minLon = -124\n",
    "    - maxLon = -106\n",
    "\n",
    "\n",
    "### You should do the following:\n",
    "\n",
    "- Import all needed packages\n",
    "- Read the boundary files for California and Utah\n",
    "- Open connection to the netcdf file via pydap and with your EarthData account\n",
    "- Retrieve information about either of the following variables from the GLDAS dataset: `AvgSurfT_inst`, `Snowf_tavg` or `Evap_tavg`.\n",
    "- Retrieve metdadata and mappings (lat, lon, ...)\n",
    "- Download the needed subset of the global dataset, covering the regions of California and Utah. **Note**: you will have to find indices that correspond to coordinates of the bounding box given above.\n",
    "- Find gridpoints located inside both states using classes and methods of the module shapely, and generate a mask for each of the regions of California and Utah\n",
    "- The mask should have the same shape as the downloaded datagrid its values should code 1 for gridpoints inside and 0 for gridpoints outside the region.\n",
    "- Apply the mask to the grid and calculate mean variable (surface temperature, snowfall or evaporation) for both regions. Note: consider a method, that does not include points outside the mask in the mean calculation, e.g. either filter the values first, or set all gridpoints outside the region to nan and use np.nanmean().)\n",
    "- Make a testplot of your masks, to see if they are correct.\n",
    "- Generate a separate map of the grided dataset within the bounding box. Plot also the boundaries/polygons of both states.\n",
    "- Don't forget to comment your code\n",
    "- Structure your notebook section below into different work steps. Make use of the notebook markdown cells, add sections headers for different steps you are taking, or similar\n",
    "- In a **mark-down cell** below your code cells, formulate a report answering the questions below.\n",
    "\n",
    "\n",
    "### Answer the following questions:\n",
    "\n",
    "- Which dataset did you choose (surface temperature, snowfall **or** evaporation) ?\n",
    "- What is the fill or missing value of the dataset ?\n",
    "- What is the unit of the dataset?\n",
    "- How many grid points locate inside the state of California?\n",
    "- How many grid points locate inside the state of Utah?\n",
    "- What is the average surface temperature / snowfall / evaporation during January 2021 in California?\n",
    "- What is the average surface temperature / snowfall / evaporation during January 2021 in Utah?\n",
    "- Which state got more snow during that month?\n"
   ]
  },
  {
   "cell_type": "code",
   "execution_count": null,
   "metadata": {},
   "outputs": [],
   "source": [
    "### ADD YOUR CODE & Documentation in cells bellow\n",
    "### Create your own notebook section structure"
   ]
  },
  {
   "cell_type": "markdown",
   "metadata": {},
   "source": [
    "## Importing all needed packages"
   ]
  },
  {
   "cell_type": "code",
   "execution_count": 84,
   "metadata": {},
   "outputs": [],
   "source": [
    "\n",
    "import numpy as np\n",
    "import matplotlib.pyplot as plt\n",
    "import lxml\n",
    "import requests\n",
    "from netCDF4 import Dataset\n",
    "from pydap.client import open_url\n",
    "from pydap.cas.urs import setup_session\n",
    "from shapely.geometry import Point, Polygon"
   ]
  },
  {
   "cell_type": "markdown",
   "metadata": {},
   "source": [
    "## Reading the boundary files for California and Utah  and covert to polygon"
   ]
  },
  {
   "cell_type": "code",
   "execution_count": 66,
   "metadata": {},
   "outputs": [],
   "source": [
    "#Reads the boundary files for California and Utah\n",
    "boundCA = np.genfromtxt('./data/boundary_CA.csv', skip_header = 1, delimiter = ',')\n",
    "boundUT = np.genfromtxt('./data/boundary_UT.csv', skip_header = 1, delimiter = ',')\n",
    "\n",
    "# convert the California (oundCA) boundary to polygon \n",
    "PolyCA = []\n",
    "for j in range(len(boundCA[:,1])):\n",
    "    PolyCA.append(tuple(boundCA[j,:]))\n",
    "polyCA = Polygon(PolyCA)\n",
    "\n",
    "#convert the Utah boundary (boundUT) to polygon \n",
    "PolyUT = []\n",
    "for j in range(len(boundUT[:,1])):\n",
    "    PolyUT.append(tuple(boundUT[j,:]))\n",
    "polyUT = Polygon(PolyUT)"
   ]
  },
  {
   "cell_type": "markdown",
   "metadata": {},
   "source": [
    "## Opening connection to the netcdf file via pydap and with my EarthData account"
   ]
  },
  {
   "cell_type": "code",
   "execution_count": 39,
   "metadata": {},
   "outputs": [],
   "source": [
    "url = 'https://hydro1.gesdisc.eosdis.nasa.gov/opendap/hyrax/GLDAS/GLDAS_CLSM10_M.2.1/2021/GLDAS_CLSM10_M.A202101.021.nc4'\n",
    "username = 'daud80'\n",
    "password = '$Imoni80'\n",
    "session = setup_session(username,password,check_url=url)\n",
    "dataset = open_url(url,session=session)\n",
    "timeUnts = dataset.time[:].units\n",
    "timeVec = dataset.time[:].data"
   ]
  },
  {
   "cell_type": "code",
   "execution_count": 6,
   "metadata": {},
   "outputs": [
    {
     "data": {
      "text/plain": [
       "<DatasetType with children 'lat', 'lon', 'time', 'time_bnds', 'Swnet_tavg', 'Lwnet_tavg', 'Qle_tavg', 'Qh_tavg', 'Qg_tavg', 'Snowf_tavg', 'Rainf_tavg', 'Evap_tavg', 'Qs_acc', 'Qsb_acc', 'Qsm_acc', 'SnowT_tavg', 'AvgSurfT_inst', 'Albedo_inst', 'SWE_inst', 'SnowDepth_inst', 'SoilMoist_S_inst', 'SoilMoist_RZ_inst', 'SoilMoist_P_inst', 'SoilTMP0_10cm_inst', 'SoilTMP10_29cm_inst', 'SoilTMP29_68cm_inst', 'SoilTMP68_144cm_inst', 'SoilTMP144_295cm_inst', 'SoilTMP295_1295cm_inst', 'ECanop_tavg', 'TVeg_tavg', 'ESoil_tavg', 'CanopInt_inst', 'ACond_tavg', 'TWS_inst', 'Wind_f_inst', 'Rainf_f_tavg', 'Tair_f_inst', 'Qair_f_inst', 'Psurf_f_inst', 'SWdown_f_tavg', 'LWdown_f_tavg'>"
      ]
     },
     "execution_count": 6,
     "metadata": {},
     "output_type": "execute_result"
    }
   ],
   "source": [
    "dataset"
   ]
  },
  {
   "cell_type": "code",
   "execution_count": 7,
   "metadata": {},
   "outputs": [
    {
     "data": {
      "text/plain": [
       "{'units': 'kg m-2 s-1',\n",
       " 'standard_name': 'snowfall_flux',\n",
       " 'long_name': 'Snow precipitation rate',\n",
       " 'cell_methods': 'time: mean',\n",
       " 'scale_factor': 1.0,\n",
       " 'add_offset': 0.0,\n",
       " 'missing_value': -9999.0,\n",
       " '_FillValue': -9999.0,\n",
       " 'vmin': 0.0,\n",
       " 'vmax': 8.28387128e-05}"
      ]
     },
     "execution_count": 7,
     "metadata": {},
     "output_type": "execute_result"
    }
   ],
   "source": [
    "dataset.Snowf_tavg.attributes"
   ]
  },
  {
   "cell_type": "markdown",
   "metadata": {},
   "source": [
    "## Retrieving information about variables from the GLDAS dataset"
   ]
  },
  {
   "cell_type": "code",
   "execution_count": 102,
   "metadata": {},
   "outputs": [],
   "source": [
    "# Retrieving metdadata and mappings\n",
    "Snowf = dataset.Snowf_tavg.array[:].data\n",
    "lon = dataset.lon[:].data\n",
    "lat =  dataset.lat[:].data\n",
    "fillVal = dataset.Snowf_tavg.missing_value"
   ]
  },
  {
   "cell_type": "code",
   "execution_count": 92,
   "metadata": {},
   "outputs": [
    {
     "name": "stdout",
     "output_type": "stream",
     "text": [
      "{'units': 'degrees_north', 'standard_name': 'latitude', 'long_name': 'latitude', 'scale_factor': 1.0, 'add_offset': 0.0, 'missing_value': -9999.0, '_FillValue': -9999.0, 'vmin': -59.5, 'vmax': 89.5}\n",
      "(360,)\n"
     ]
    }
   ],
   "source": [
    "# Print the attributes and shape for lat and lon\n",
    "lat = dataset.lat  # retrieve latitude\n",
    "lon = dataset.lon  # retrieve longitude\n",
    "print(lat.attributes) # print shape of the latitude\n",
    "print(lon.shape) # print shape of the longitude"
   ]
  },
  {
   "cell_type": "code",
   "execution_count": 104,
   "metadata": {},
   "outputs": [
    {
     "name": "stdout",
     "output_type": "stream",
     "text": [
      "{'units': 'K', 'standard_name': 'surface_temperature', 'long_name': 'Average Surface Skin temperature', 'cell_methods': 'time: mean', 'scale_factor': 1.0, 'add_offset': 0.0, 'missing_value': -9999.0, '_FillValue': -9999.0, 'vmin': 223.751678, 'vmax': 312.357544}\n",
      "{'units': 'kg m-2 s-1', 'standard_name': 'snowfall_flux', 'long_name': 'Snow precipitation rate', 'cell_methods': 'time: mean', 'scale_factor': 1.0, 'add_offset': 0.0, 'missing_value': -9999.0, '_FillValue': -9999.0, 'vmin': 0.0, 'vmax': 8.28387128e-05}\n",
      "{'units': 'kg m-2 s-1', 'standard_name': 'water_evaporation_flux', 'long_name': 'Evapotranspiration', 'cell_methods': 'time: mean', 'scale_factor': 1.0, 'add_offset': 0.0, 'missing_value': -9999.0, '_FillValue': -9999.0, 'vmin': -1.2746824e-06, 'vmax': 9.153469e-05}\n"
     ]
    }
   ],
   "source": [
    "# Retrieving information about the data (metdadata and mappings)\n",
    "AvSurfT = dataset.AvgSurfT_inst \n",
    "Snowf = dataset.Snowf_tavg  \n",
    "Snowf_unit = Snowf.units # units of snow data\n",
    "Evap = dataset.Evap_tavg\n",
    "print(AvSurfT.attributes) # print shape of the Average surface temeperature\n",
    "print(Snowf.attributes) # print shape of the Snow\n",
    "print(Evap.attributes) # print shape of the Everporation"
   ]
  },
  {
   "cell_type": "markdown",
   "metadata": {},
   "source": [
    "## Downloading the needed subset of the global datase"
   ]
  },
  {
   "cell_type": "code",
   "execution_count": 46,
   "metadata": {},
   "outputs": [],
   "source": [
    "minLat = 28\n",
    "maxLat = 45\n",
    "minLon = -124\n",
    "maxLon = -106"
   ]
  },
  {
   "cell_type": "code",
   "execution_count": 47,
   "metadata": {},
   "outputs": [
    {
     "name": "stdout",
     "output_type": "stream",
     "text": [
      "87 104 55 73\n"
     ]
    }
   ],
   "source": [
    "# Find out the index for the area of interest\n",
    "iminLat = np.argmin(abs(lat-minLat))\n",
    "imaxLat = np.argmin(abs(lat-maxLat))\n",
    "iminLon = np.argmin(abs(lon-minLon))\n",
    "imaxLon = np.argmin(abs(lon-maxLon))\n",
    "print(iminLat,imaxLat,iminLon,imaxLon)"
   ]
  },
  {
   "cell_type": "code",
   "execution_count": 54,
   "metadata": {},
   "outputs": [],
   "source": [
    "lon_sub=lon[iminLon:imaxLon]\n",
    "lat_sub=lat[iminLat:imaxLat]"
   ]
  },
  {
   "cell_type": "code",
   "execution_count": 100,
   "metadata": {},
   "outputs": [],
   "source": [
    "Snowf = dataset.Snowf_tavg.array[0,iminLat:imaxLat,iminLon:imaxLon].data\n"
   ]
  },
  {
   "cell_type": "code",
   "execution_count": 37,
   "metadata": {},
   "outputs": [
    {
     "data": {
      "text/plain": [
       "{'units': 'kg m-2 s-1',\n",
       " 'standard_name': 'snowfall_flux',\n",
       " 'long_name': 'Snow precipitation rate',\n",
       " 'cell_methods': 'time: mean',\n",
       " 'scale_factor': 1.0,\n",
       " 'add_offset': 0.0,\n",
       " 'missing_value': -9999.0,\n",
       " '_FillValue': -9999.0,\n",
       " 'vmin': 0.0,\n",
       " 'vmax': 8.28387128e-05}"
      ]
     },
     "execution_count": 37,
     "metadata": {},
     "output_type": "execute_result"
    }
   ],
   "source": [
    "dataset.Snowf_tavg.attributes"
   ]
  },
  {
   "cell_type": "markdown",
   "metadata": {},
   "source": [
    "## Making a testplot of my mask"
   ]
  },
  {
   "cell_type": "code",
   "execution_count": 58,
   "metadata": {},
   "outputs": [
    {
     "data": {
      "text/plain": [
       "<matplotlib.collections.QuadMesh at 0x7f8ff8749bb0>"
      ]
     },
     "execution_count": 58,
     "metadata": {},
     "output_type": "execute_result"
    },
    {
     "data": {
      "image/png": "[encoded data removed]",
      "text/plain": [
       "<Figure size 432x288 with 1 Axes>"
      ]
     },
     "metadata": {
      "needs_background": "light"
     },
     "output_type": "display_data"
    }
   ],
   "source": [
    "import matplotlib.pyplot as plt\n",
    "\n",
    "plt.pcolormesh(lon_sub,lat_sub,Snowf[0,:,:],shading='auto')"
   ]
  },
  {
   "cell_type": "code",
   "execution_count": 62,
   "metadata": {},
   "outputs": [],
   "source": [
    "lonGrid,latGrid = np.meshgrid(lon_sub,lat_sub)\n",
    "Snowf[Snowf==fillVal] = np.nan # fill he missing value of snow with nan\n",
    "Snowf_day = Snowf*60*60*24  # convert unit from kg m-2 s-1 to kg m-2 d-1"
   ]
  },
  {
   "cell_type": "code",
   "execution_count": 72,
   "metadata": {},
   "outputs": [],
   "source": [
    "#Finding gridpoints located inside both states using classes and methods of the module shapely\n",
    "# and generate a mask for each of the regions of California and Utah\n",
    "CAmask = np.zeros(Snowf_day.shape[1:])\n",
    "UTmask = np.zeros(Snowf_day.shape[1:])\n",
    "\n",
    "for i in range(len(lon_sub)):\n",
    "    for j in range(len(lat_sub)):\n",
    "        \n",
    "        curr_point = Point(lat_sub[j],lon_sub[i])\n",
    "        CAmask[j,i] = int(curr_point.within(polyCA))\n",
    "        UTmask[j,i] = int(curr_point.within(polyUT))\n",
    "        \n",
    "mask_CA_UT = CAmask + UTmask   # combing the masked snow for both California and Utah\n",
    "mask_CA_UT[mask_CA_UT==0] = np.nan # converts the 0 position or false to nans"
   ]
  },
  {
   "cell_type": "code",
   "execution_count": 73,
   "metadata": {},
   "outputs": [
    {
     "name": "stdout",
     "output_type": "stream",
     "text": [
      "The mean Snow for California and Utah are 0.522 kg m-2 d-1 and 0.711 kg m-2 d-1 respectively.\n"
     ]
    }
   ],
   "source": [
    "# Apply the mask to the grid and calculate mean variable (surface temperature, snowfall or evaporation) for both region\n",
    "CAmask[CAmask==0] = np.nan\n",
    "CA_Snow = Snowf_day[0]*CAmask \n",
    "CA_mean_Snow = np.nanmean(CA_Snow)  # mean Snow for  California\n",
    "                          \n",
    "UTmask[UTmask==0] = np.nan\n",
    "UT_Snow = Snowf_day[0]*UTmask \n",
    "UT_mean_Snow = np.nanmean(UT_Snow)  # mean Snow for  Utah                     \n",
    "                          \n",
    "print('The mean Snow for California and Utah are {} kg m-2 d-1 and {} kg m-2 d-1 respectively.' .format(round(CA_mean_Snow,3),round(UT_mean_Snow,3)))\n"
   ]
  },
  {
   "cell_type": "markdown",
   "metadata": {},
   "source": [
    "## Generating a separate map of the grided dataset within the bounding box"
   ]
  },
  {
   "cell_type": "code",
   "execution_count": 74,
   "metadata": {},
   "outputs": [
    {
     "data": {
      "image/png": "[encoded data removed]",
      "text/plain": [
       "<Figure size 432x288 with 2 Axes>"
      ]
     },
     "metadata": {
      "needs_background": "light"
     },
     "output_type": "display_data"
    }
   ],
   "source": [
    "# Ploting for boundary for California and Utah\n",
    "plt.pcolormesh(lonGrid,latGrid,mask_CA_UT,shading='auto')\n",
    "\n",
    "plt.plot(boundCA[:,1],boundCA[:,0], 'k--') # ploting boundary for California\n",
    "plt.plot(boundUT[:,1],boundUT[:,0], 'k--') # ploting boundary for Utah \n",
    "\n",
    "# colobar and label\n",
    "cbar = plt.colorbar()\n",
    "cbar.set_label('Mask Snow for California and Utah')"
   ]
  },
  {
   "cell_type": "code",
   "execution_count": 76,
   "metadata": {},
   "outputs": [
    {
     "data": {
      "image/png": "[encoded data removed]",
      "text/plain": [
       "<Figure size 432x288 with 2 Axes>"
      ]
     },
     "metadata": {
      "needs_background": "light"
     },
     "output_type": "display_data"
    }
   ],
   "source": [
    "# Generating a separate map of the grided dataset within the bounding box. \n",
    "# Ploting also the boundaries or polygons of both states.\n",
    "plt.pcolormesh(lonGrid,latGrid,Snowf_day[0],shading='auto')\n",
    "plt.plot(boundCA[:,1],boundCA[:,0], 'k--') # ploting boundary for California\n",
    "plt.plot(boundUT[:,1],boundUT[:,0], 'k--') # ploting boundary for Utah \n",
    "cbar = plt.colorbar()\n",
    "cbar.set_label('Snow for California and Utah')"
   ]
  },
  {
   "cell_type": "markdown",
   "metadata": {},
   "source": [
    "#### Add your report of results in this markdown cell\n"
   ]
  },
  {
   "cell_type": "markdown",
   "metadata": {},
   "source": [
    "### Discussions"
   ]
  },
  {
   "cell_type": "markdown",
   "metadata": {},
   "source": [
    " 1. Which dataset did you choose (surface temperature, snowfall or evaporation) ?"
   ]
  },
  {
   "cell_type": "code",
   "execution_count": 87,
   "metadata": {},
   "outputs": [
    {
     "name": "stdout",
     "output_type": "stream",
     "text": [
      "My choice is the Snow precipitation rate (Snowf_tavg) dataset.\n"
     ]
    }
   ],
   "source": [
    "print('My choice is the {} (Snowf_tavg) dataset.' .format(Snowf.long_name))  "
   ]
  },
  {
   "cell_type": "markdown",
   "metadata": {},
   "source": [
    "2. What is the fill or missing value of the dataset ?"
   ]
  },
  {
   "cell_type": "code",
   "execution_count": 93,
   "metadata": {},
   "outputs": [
    {
     "name": "stdout",
     "output_type": "stream",
     "text": [
      "The fill or missing value of the dataset is -9999.0.\n"
     ]
    }
   ],
   "source": [
    "print('The fill or missing value of the dataset is {}.' .format(fillVal))"
   ]
  },
  {
   "cell_type": "markdown",
   "metadata": {},
   "source": [
    "3. What is the unit of the dataset?"
   ]
  },
  {
   "cell_type": "code",
   "execution_count": 105,
   "metadata": {},
   "outputs": [
    {
     "name": "stdout",
     "output_type": "stream",
     "text": [
      "The units for Snow is kg m-2 s-1.\n"
     ]
    }
   ],
   "source": [
    "print ('The units for Snow is {}.' .format(Snowf_unit))"
   ]
  },
  {
   "cell_type": "markdown",
   "metadata": {},
   "source": [
    "4. How many grid points locate inside the state of California?"
   ]
  },
  {
   "cell_type": "code",
   "execution_count": 106,
   "metadata": {},
   "outputs": [
    {
     "name": "stdout",
     "output_type": "stream",
     "text": [
      "The number of grid points located inside the state of California are 40.\n"
     ]
    }
   ],
   "source": [
    "print('The number of grid points located inside the state of California are {}.' .format(np.count_nonzero(~np.isnan(CA_Snow))))"
   ]
  },
  {
   "cell_type": "markdown",
   "metadata": {},
   "source": [
    "5. How many grid points locate inside the state of Utah?"
   ]
  },
  {
   "cell_type": "code",
   "execution_count": 107,
   "metadata": {},
   "outputs": [
    {
     "name": "stdout",
     "output_type": "stream",
     "text": [
      "The number of grid points located inside the state of Utah are 23.\n"
     ]
    }
   ],
   "source": [
    "print('The number of grid points located inside the state of Utah are {}.' .format(np.count_nonzero(~np.isnan(UT_Snow))))"
   ]
  },
  {
   "cell_type": "markdown",
   "metadata": {},
   "source": [
    "6. What is the average surface temperature / snowfall / evaporation during January 2021 in California?"
   ]
  },
  {
   "cell_type": "code",
   "execution_count": 109,
   "metadata": {},
   "outputs": [
    {
     "name": "stdout",
     "output_type": "stream",
     "text": [
      "The average snowfall during January 2021 in California is 0.522 kg m-2 d-1.\n"
     ]
    }
   ],
   "source": [
    "print('The average snowfall during January 2021 in California is {} kg m-2 d-1.' .format(round(CA_mean_Snow,3)))"
   ]
  },
  {
   "cell_type": "markdown",
   "metadata": {},
   "source": [
    "7. What is the average surface temperature / snowfall / evaporation during January 2021 in Utah?"
   ]
  },
  {
   "cell_type": "code",
   "execution_count": 110,
   "metadata": {},
   "outputs": [
    {
     "name": "stdout",
     "output_type": "stream",
     "text": [
      "The average snowfall during January 2021 in California is 0.711 kg m-2 d-1.\n"
     ]
    }
   ],
   "source": [
    "print('The average snowfall during January 2021 in California is {} kg m-2 d-1.' .format(round(UT_mean_Snow,3)))"
   ]
  },
  {
   "cell_type": "markdown",
   "metadata": {},
   "source": [
    "8. Which state got more snow during that month?"
   ]
  },
  {
   "cell_type": "markdown",
   "metadata": {},
   "source": [
    "Utah is the state got more snow during January 2021 with an average snow of  0.711 kg m-2 d-1"
   ]
  },
  {
   "cell_type": "markdown",
   "metadata": {},
   "source": [
    "---\n",
    "---\n",
    "# Part C: Data Matrix Filtering & SVD\n",
    "<a id='partC'></a>\n",
    "\n",
    "**Task 1.** Perform a singular value decomposition SVD and extract the features and loadings (major temporal and spatial components) for the `tos` data set: `~/data/tos_O1_2001-2002.nc`. Exclude the land cells, before performing the decomposition. For that, filter the data matrix X in a way that all land cells are excluded (using a spatial mask), before performing the SVD.\n",
    "\n",
    "\n",
    "\n",
    "**Task 2.** (optiona) Perform a singular value decomposition SVD and extract the features and loadings (major temporal and spatial components) for the `gistemp` data set, during the years 2000-2022: `~/data/gistemp250_GHCNv4.nc`. This time, exclude the ocean cells. \n",
    "\n",
    "Comment your code and results. Write a few sentences, how you interpret the results?"
   ]
  },
  {
   "cell_type": "code",
   "execution_count": null,
   "metadata": {},
   "outputs": [],
   "source": [
    "# ADD YOUR CODE FOR TASK 1"
   ]
  },
  {
   "cell_type": "code",
   "execution_count": 49,
   "metadata": {},
   "outputs": [],
   "source": [
    "import numpy as np\n",
    "import matplotlib.pyplot as plt\n",
    "from netCDF4 import Dataset\n",
    "data = Dataset('./data/tos_O1_2001-2002.nc')\n",
    "lat = data.variables['lat'][:].data\n",
    "lon = data.variables['lon'][:].data\n",
    "time = data.variables['time'][:].data\n",
    "tos = data.variables['tos'][:].data\n",
    "fillvalue = data.variables['tos']._FillValue\n",
    "tos = tos -273.15;  # converts Kelvin to Celcius unit\n",
    "tos[tos==fillvalue] = np.nan  # assign missing values to nan\n",
    "data.close()"
   ]
  },
  {
   "cell_type": "code",
   "execution_count": 50,
   "metadata": {},
   "outputs": [],
   "source": [
    "lenLat = len(lat)\n",
    "lenLon = len(lon)\n",
    "lenTime = len(tos[:,0,0])"
   ]
  },
  {
   "cell_type": "code",
   "execution_count": 51,
   "metadata": {},
   "outputs": [
    {
     "name": "stdout",
     "output_type": "stream",
     "text": [
      "(30600, 24)\n",
      "(21090, 24)\n"
     ]
    }
   ],
   "source": [
    "X = tos.reshape((lenTime,lenLon*lenLat)) # reshaping from 3D to 2D\n",
    "X = np.transpose(X)  # reconstructing data for spatial components as rows and temporal as columns\n",
    "Xnan = np.where(np.isnan(X.flatten())) # saving indices location of nan or land cells in a 1D array\n",
    "Notnan = np.where(~np.isnan(X.flatten())) # saving indices location of non nan in a 1D array\n",
    "x = X[~np.isnan(X).any(axis=1)] # removes all nans locations\n",
    "print(X.shape)\n",
    "print(x.shape)"
   ]
  },
  {
   "cell_type": "code",
   "execution_count": 52,
   "metadata": {},
   "outputs": [],
   "source": [
    "# Performing a singular value decomposition SVD\n",
    "u,s,vT = np.linalg.svd(x,full_matrices=0)"
   ]
  },
  {
   "cell_type": "code",
   "execution_count": 53,
   "metadata": {},
   "outputs": [
    {
     "data": {
      "text/plain": [
       "((21090, 24), (24,), (24, 24))"
      ]
     },
     "execution_count": 53,
     "metadata": {},
     "output_type": "execute_result"
    }
   ],
   "source": [
    "(u.shape, s.shape,vT.shape)"
   ]
  },
  {
   "cell_type": "code",
   "execution_count": 54,
   "metadata": {},
   "outputs": [],
   "source": [
    "# Saving land areas as nans\n",
    "LA = np.ones((lenLon*lenLat*lenTime))\n",
    "LA[Xnan] = np.nan\n",
    "LA[Notnan] = u.flatten()\n",
    "u =LA.reshape((lenLon*lenLat,lenTime))"
   ]
  },
  {
   "cell_type": "code",
   "execution_count": 56,
   "metadata": {},
   "outputs": [
    {
     "data": {
      "image/png": "[encoded data removed]",
      "text/plain": [
       "<Figure size 432x288 with 8 Axes>"
      ]
     },
     "metadata": {
      "needs_background": "light"
     },
     "output_type": "display_data"
    }
   ],
   "source": [
    "# Plotting the main features from SVD\n",
    "from mpl_toolkits.axes_grid1 import make_axes_locatable\n",
    "\n",
    "fig,axs = plt.subplots(2,2)\n",
    "axs = axs.reshape(-1)  # reshapes 2d axes array into a 1d array (for easier indexing)\n",
    "for j in range(4):\n",
    "    U = np.flipud(np.reshape(u[:,j],(lenLat,lenLon)))\n",
    "    U2 = U[::2,::2]  # get only every second pixel, for smaller image size\n",
    "    im = axs[j].imshow(U2,cmap='hot')\n",
    "    axs[j].axis('off')\n",
    "    # following lines add colorbar to each subplot\n",
    "    divider = make_axes_locatable(axs[j])\n",
    "    cax = divider.append_axes('right', size='5%', pad=0.05)\n",
    "    fig.colorbar(im, cax=cax, orientation='vertical');"
   ]
  },
  {
   "cell_type": "code",
   "execution_count": 57,
   "metadata": {},
   "outputs": [
    {
     "data": {
      "image/png": "[encoded data removed]",
      "text/plain": [
       "<Figure size 432x288 with 4 Axes>"
      ]
     },
     "metadata": {
      "needs_background": "light"
     },
     "output_type": "display_data"
    }
   ],
   "source": [
    "fig,axs = plt.subplots(2,2)\n",
    "axs = axs.reshape(-1)\n",
    "for j in range(4):\n",
    "    V = vT[j,:]\n",
    "    im = axs[j].plot(range(1,len(V)+1),V)"
   ]
  },
  {
   "cell_type": "code",
   "execution_count": 58,
   "metadata": {},
   "outputs": [
    {
     "data": {
      "image/png": "[encoded data removed]",
      "text/plain": [
       "<Figure size 432x288 with 1 Axes>"
      ]
     },
     "metadata": {
      "needs_background": "light"
     },
     "output_type": "display_data"
    }
   ],
   "source": [
    "plt.figure()\n",
    "plt.plot(np.cumsum(s)/np.sum(s),'.')\n",
    "plt.title('Singular Values: Cumulative Sum')\n",
    "plt.show()"
   ]
  },
  {
   "cell_type": "markdown",
   "metadata": {},
   "source": [
    "#### Add your interpretation of results for task 1"
   ]
  },
  {
   "cell_type": "markdown",
   "metadata": {},
   "source": [
    "The four plots are the SVD representing spatial and temporal components (features and loadings) for the sea surface in different areas over the World when land cells are removed. However, the plots depicts the temperature variation from the northern hemisphere, equator and southern hemisphere. For example, the first plot show colder temperature in the southern hemisphere (-0.01) while the second plot on the first panel shows high temperature in the northern hemisphere (0.02). The remaining two plots depict the same variation of temperature in the regions for those time period (-0.02 to +0.02)"
   ]
  }
 ],
 "metadata": {
  "kernelspec": {
   "display_name": "Python 3",
   "language": "python",
   "name": "python3"
  },
  "language_info": {
   "codemirror_mode": {
    "name": "ipython",
    "version": 3
   },
   "file_extension": ".py",
   "mimetype": "text/x-python",
   "name": "python",
   "nbconvert_exporter": "python",
   "pygments_lexer": "ipython3",
   "version": "3.8.5"
  }
 },
 "nbformat": 4,
 "nbformat_minor": 4
}
