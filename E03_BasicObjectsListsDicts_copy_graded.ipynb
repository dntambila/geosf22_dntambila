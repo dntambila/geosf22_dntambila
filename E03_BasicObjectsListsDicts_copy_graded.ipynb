{
 "cells": [
  {
   "cell_type": "markdown",
   "id": "c353e96d",
   "metadata": {},
   "source": [
    "Geo Data Science with Python,\n",
    "Prof. Susanna Werth, VT Geosciences\n",
    "\n",
    "---\n",
    "### Exercise 3\n",
    "\n",
    "# Basic Object Types, Lists and Dictionaries\n",
    "\n",
    "### Content & Grading\n",
    "\n",
    "You will receive the following points for this exercise:\n",
    "\n",
    "- A. <a href='#basic'> Basic Object Types </a> - 20 Points\n",
    "- B. <a href='#list'> Lists </a> - 30 Points\n",
    "- C. <a href='#dict'> Dictionaries </a> - 30 Points\n",
    "- D. <a href='#opt'> Optional Studies </a> - 20 Extra Credit Points \n",
    "\n",
    "Total: 80 + 20\n",
    "\n",
    "---"
   ]
  },
  {
   "cell_type": "markdown",
   "id": "f969194e",
   "metadata": {},
   "source": [
    "### Name and Collaborator\n",
    "Add your name and the name of any collaborator in the code cell below."
   ]
  },
  {
   "cell_type": "code",
   "execution_count": 2,
   "id": "3f6bc6cc",
   "metadata": {},
   "outputs": [],
   "source": [
    "Name = 'Ntambila Daud'\n",
    "Collaborators = ['None']"
   ]
  },
  {
   "cell_type": "markdown",
   "id": "3aec4325-041f-42c7-b61e-e0e92cc47dcc",
   "metadata": {},
   "source": [
    "<div class=\"alert alert-warning\">\n",
    "\n",
    "**Grades:** \n",
    "\n",
    "Total points: **69**/80 (including 0/20 extra credit)\n",
    "    \n",
    "- Part A\n",
    "    - A1: 2/2\n",
    "    - A2: 5/5\n",
    "    - A3: 2/7\n",
    "    - A4: 6/6\n",
    "- Part B\n",
    "    - B1: 7/7\n",
    "    - B2: 6/6\n",
    "    - B3: 6/6\n",
    "    - B4: 5/5\n",
    "    - B5: 6/6\n",
    "- Part C\n",
    "    - C1: 5/5\n",
    "    - C2: 10/10\n",
    "    - C3: 9/15\n",
    "- Part D (extra credit)\n",
    "    - D1: 0/6\n",
    "    - D2: 0/14\n",
    "\n",
    "\n",
    "Signed: Susanna Werth\n",
    "    \n",
    "    \n",
    "</div>\n"
   ]
  },
  {
   "cell_type": "markdown",
   "id": "b8816f5e-2cc5-416b-ae9e-45b8174ec2b5",
   "metadata": {},
   "source": [
    "<div class=\"alert alert-warning\">\n",
    "\n",
    "**Additional Grading Notes:** \n",
    "\n",
    "Some more comments might be provided below for answers without full points. If there are no comments, your answer is correct.\n",
    "        \n",
    "\n",
    "    \n",
    "\n",
    "\n",
    "    \n",
    "    \n",
    "</div>\n"
   ]
  },
  {
   "cell_type": "markdown",
   "id": "72a0636f",
   "metadata": {},
   "source": [
    "---"
   ]
  },
  {
   "cell_type": "markdown",
   "id": "6bb43115",
   "metadata": {},
   "source": [
    "<a id='basic'></a>\n",
    "# A. Basic Object Types"
   ]
  },
  {
   "cell_type": "markdown",
   "id": "90784745",
   "metadata": {},
   "source": [
    "--- \n",
    "### Task A.1: Built-in Operations\n",
    "\n",
    "Search the folowing websites listing basic expression operators (https://www.tutorialspoint.com/python/python_basic_operators.htm)\n",
    "and built-in functions in Python (https://docs.python.org/3/library/functions.html)\n",
    "\n",
    "Answer the following questions in the markdown cell below:\n",
    "\n",
    "1. Which single-symbol built-in Python **expression** operator returns the floor value of a division of two numbers? \n",
    "2. Which built-in Python **function** returns `True` if any element of the iterable is true? \n"
   ]
  },
  {
   "cell_type": "markdown",
   "id": "fab59d8e",
   "metadata": {},
   "source": [
    "\"ENTER YOUR ANSWER HERE\"\n",
    "1. x/y, x//y\n",
    "2. any()"
   ]
  },
  {
   "cell_type": "markdown",
   "id": "d55d41e0",
   "metadata": {},
   "source": [
    "---\n",
    "### Task A.2: Boolean Tests\n",
    "\n",
    "Assign the variable c, d and e with number or string values, so that all Tests 1-4 in the second next code cell return True."
   ]
  },
  {
   "cell_type": "code",
   "execution_count": 125,
   "id": "abcee993",
   "metadata": {},
   "outputs": [],
   "source": [
    "\n",
    "### ENTER YOUR CODE HERE\n",
    "c=1\n",
    "d='hi'\n",
    "e=0"
   ]
  },
  {
   "cell_type": "code",
   "execution_count": 93,
   "id": "83ed3396",
   "metadata": {},
   "outputs": [
    {
     "name": "stdout",
     "output_type": "stream",
     "text": [
      "True True True True\n"
     ]
    }
   ],
   "source": [
    "# TESTS:\n",
    "Test1 = bool(d)\n",
    "Test2 = c > e and (type(e) == int)\n",
    "Test3 = (c or e) == 1\n",
    "Test4 = (not e) and d == 'hi'\n",
    "print(Test1, Test2, Test3, Test4)"
   ]
  },
  {
   "cell_type": "code",
   "execution_count": null,
   "id": "d51c0806",
   "metadata": {},
   "outputs": [],
   "source": [
    "# ASSERT TESTS: these tests tell you if your  \n",
    "#               results are fulfilling the task.\n",
    "# (assert will return an AssertionError,\n",
    "#  if assert expression response is False, \n",
    "#  otherwise remain silent)\n",
    "assert Test1 == True\n",
    "assert Test2 == True\n",
    "assert Test3 == True\n",
    "assert Test4 == True\n",
    "assert type(c) == int or float or str\n",
    "assert type(d) == int or float or str\n",
    "assert type(e) == int or float or str"
   ]
  },
  {
   "cell_type": "markdown",
   "id": "f1a91f81",
   "metadata": {},
   "source": [
    "---\n",
    "### Task A.3 Sequences\n",
    "\n",
    "Assign a sentence to a string variable `strSentence`. Then write code, that changes the string to a list `listSentence`, which contains every word of the sentence, but has added `%` in front and at the end of every single word.\n",
    "\n",
    "**Example:**\n",
    "\n",
    "The string \n",
    "\n",
    "`\"Fall is Awesome in Blacksburg\"` \n",
    "\n",
    "would become a new list:\n",
    "\n",
    "`['%Fall%','%is%', '%awesome%', '%in%', '%Blacksburg%']`\n",
    "\n",
    "Investigate the string method `split()` to find out how this might be useful."
   ]
  },
  {
   "cell_type": "code",
   "execution_count": 99,
   "id": "892c8c6e",
   "metadata": {},
   "outputs": [
    {
     "data": {
      "text/plain": [
       "'Kilimanjaro is the Tallest Mount found in Africa'"
      ]
     },
     "execution_count": 99,
     "metadata": {},
     "output_type": "execute_result"
    }
   ],
   "source": [
    "\n",
    "### ADD YOUR CODE HERE\n",
    "strSentence=\"Kilimanjaro is the Tallest Mount found in Africa\"\n",
    "listSentence=\"Kilimanjaro is the Tallest Mount found in Africa\"\n",
    "listSentence"
   ]
  },
  {
   "cell_type": "code",
   "execution_count": 100,
   "id": "3e56b074",
   "metadata": {},
   "outputs": [
    {
     "data": {
      "text/plain": [
       "['Kilimanjaro', 'is', 'the', 'Tallest', 'Mount', 'found', 'in', 'Africa']"
      ]
     },
     "execution_count": 100,
     "metadata": {},
     "output_type": "execute_result"
    }
   ],
   "source": [
    "strSentence.split()"
   ]
  },
  {
   "cell_type": "markdown",
   "id": "137b7d23",
   "metadata": {},
   "source": [
    "---\n",
    "### Task A.4 Mutability\n",
    "\n",
    "What does it mean if an object is mutable? What about immutable? Name at least two mutable and two immutable objects in Python. "
   ]
  },
  {
   "cell_type": "markdown",
   "id": "65c37433",
   "metadata": {},
   "source": [
    "\"ENTER YOUR ANSWER HERE\"\n",
    "An object is  mutable if its state or contents can be modified after it is created.\n",
    "Examples of mutable object are list, dictionary, set\n",
    "Immutables are the objects whose state cannot be changed once the object is created. \n",
    "Examples of Immutable objects are Strings and Numbers are integer, float, complex, string, tuple"
   ]
  },
  {
   "cell_type": "markdown",
   "id": "f9244066",
   "metadata": {
    "tags": []
   },
   "source": [
    "---\n",
    "<a id='list'></a>\n",
    "# B. Write your Own List Comprehensions\n",
    "\n",
    "This tasks includes writing several list comprehensions and other operations:\n",
    "\n",
    "1. Write a list comprehension that selects numbers from 1 and 100 that are divisible by 7 and assigns the result to a list `sevenList`. Use the built-in function `range()`. Search the function in the internet, if you do not know how to use it (simply search for *range Python* in the internet).\n",
    "\n",
    "\n",
    "2. Assign a list `lackList = [‘cackle’, ‘mack’, ‘kraggle’]` and write a list comprehension that returns the index of the letter k from the list. Assign the result to a variable `foundK`. Apply the function `find()`.\n",
    "\n",
    "\n",
    "3. Append a fourth string to the list `lackList` using the method `append()`. Then use list comprehensions to return the first letter of each word to a new list `firstLetList`.\n",
    "\n",
    "\n",
    "4. Write a list comprehension, that generates a list of numbers between 1 and 1000 in steps of 100 and then returns the square of each value. (Hint: `range()`).\n",
    "\n",
    "\n",
    "5. Develop code that transfers a list `L` containing integer numbers into a second list L2 containing the only the even numbers from L. (Hint: Modulus Operator)\n",
    "\n",
    "\n",
    "Enter the code for these task items in the five cells below. Use exactly the requested variable names, if you want to test your results with the ASSERT tests below."
   ]
  },
  {
   "cell_type": "code",
   "execution_count": 198,
   "id": "7d51f2fc",
   "metadata": {},
   "outputs": [
    {
     "data": {
      "text/plain": [
       "[7, 14, 21, 28, 35, 42, 49, 56, 63, 70, 77, 84, 91, 98]"
      ]
     },
     "execution_count": 198,
     "metadata": {},
     "output_type": "execute_result"
    }
   ],
   "source": [
    "\n",
    "### YOUR CODE & COMMENTS HERE - 1.\n",
    "myList=list(range(1,100))\n",
    "sevenList=[sevenList for sevenList in myList if sevenList %7==0]\n",
    "sevenList"
   ]
  },
  {
   "cell_type": "code",
   "execution_count": 199,
   "id": "de05659e",
   "metadata": {},
   "outputs": [
    {
     "data": {
      "text/plain": [
       "[3, 3, 0]"
      ]
     },
     "execution_count": 199,
     "metadata": {},
     "output_type": "execute_result"
    }
   ],
   "source": [
    "\n",
    "### YOUR CODE & COMMENTS HERE - 2.\n",
    "lackList=['cackle','mack','kraggle']\n",
    "foundK=[k.find('k') for k in lackList]\n",
    "foundK"
   ]
  },
  {
   "cell_type": "code",
   "execution_count": 201,
   "id": "234fe840",
   "metadata": {},
   "outputs": [
    {
     "data": {
      "text/plain": [
       "['c', 'm', 'k', 'T']"
      ]
     },
     "execution_count": 201,
     "metadata": {},
     "output_type": "execute_result"
    }
   ],
   "source": [
    "\n",
    "### YOUR CODE & COMMENTS HERE - 3.\n",
    "lackList.append('Table')\n",
    "firstLetList=[Let[0].split()[0] for Let in lackList]\n",
    "firstLetList"
   ]
  },
  {
   "cell_type": "code",
   "execution_count": 1,
   "id": "fa8a67ea",
   "metadata": {},
   "outputs": [
    {
     "data": {
      "text/plain": [
       "[1, 10201, 40401, 90601, 160801, 251001, 361201, 491401, 641601, 811801]"
      ]
     },
     "execution_count": 1,
     "metadata": {},
     "output_type": "execute_result"
    }
   ],
   "source": [
    "\n",
    "### YOUR CODE & COMMENTS HERE - 4.\n",
    "[x**2 for x in range(1,1000,100)]\n"
   ]
  },
  {
   "cell_type": "code",
   "execution_count": 18,
   "id": "eff62d20",
   "metadata": {},
   "outputs": [],
   "source": [
    "\n",
    "### YOUR CODE & COMMENTS HERE - 5.\n",
    "L=range(1,51)\n",
    "L2=[x for x in L if x%2==0]"
   ]
  },
  {
   "cell_type": "code",
   "execution_count": 203,
   "id": "086825cd",
   "metadata": {},
   "outputs": [],
   "source": [
    "# ASSERT tests of your results for 1-3\n",
    "assert type(sevenList)     == list\n",
    "assert len(sevenList)      == 14\n",
    "assert type(lackList)      == list\n",
    "assert lackList[0] == 'cackle'\n",
    "assert lackList[1] == 'mack'  \n",
    "assert lackList[2] == 'kraggle'\n",
    "assert len(lackList)       == 4\n",
    "assert type(lackList[3])  == str\n",
    "assert bool(firstLetList[3]) == True"
   ]
  },
  {
   "cell_type": "markdown",
   "id": "061f231e",
   "metadata": {},
   "source": [
    "---\n",
    "<a id='dict'></a>\n",
    "# C. Dictionaries\n",
    "\n",
    "### Task C.1: Working with Dictionaries\n",
    "\n",
    "Create a dictionary object, `dict_DaysInMonth`, that maps a month's name (the dictionary key) to the respective number of days in that month (the value) for January, February, ..., December, assuming it’s not a leap-year. "
   ]
  },
  {
   "cell_type": "code",
   "execution_count": 1,
   "id": "06b173ed",
   "metadata": {},
   "outputs": [],
   "source": [
    "\n",
    "# YOUR CODE HERE\n",
    "dict_DaysInMonth={'January':31,'February':28,'March':31,'April':30,'May':31,'June':30,\n",
    "                  'July':31,'August':31,'September':30,'Ocober':31,'November':30,'December':31}"
   ]
  },
  {
   "cell_type": "markdown",
   "id": "08ad7f13",
   "metadata": {},
   "source": [
    "How can you list only the values from `dict_DaysInMonth`? Assign the values of the dictionary to a variable `DaysInMonth`."
   ]
  },
  {
   "cell_type": "code",
   "execution_count": 2,
   "id": "6d881ec1",
   "metadata": {},
   "outputs": [
    {
     "data": {
      "text/plain": [
       "dict_values([31, 28, 31, 30, 31, 30, 31, 31, 30, 31, 30, 31])"
      ]
     },
     "execution_count": 2,
     "metadata": {},
     "output_type": "execute_result"
    }
   ],
   "source": [
    "\n",
    "# YOUR CODE HERE\n",
    "DaysInMonth=dict_DaysInMonth.values()"
   ]
  },
  {
   "cell_type": "code",
   "execution_count": null,
   "id": "8ae730a4",
   "metadata": {},
   "outputs": [],
   "source": [
    "# ASSERT tests - Check the result of your code\n",
    "\n",
    "len(dict_DaysInMonth) == 12\n",
    "\n",
    "# note the dictionary comprehensions in the following tests\n",
    "len([d for d in list(DaysInMonth) if d == 31]) == 7\n",
    "len([d for d in list(DaysInMonth) if d == 30]) == 4\n",
    "\n",
    "assert type(dict_DaysInMonth) == dict\n",
    "assert type(DaysInMonth)      == type({'z':1}.values())"
   ]
  },
  {
   "cell_type": "markdown",
   "id": "ca958682",
   "metadata": {},
   "source": [
    "---\n",
    "### Task C.2: Store Data in Dictionaries \n",
    "\n",
    "\n",
    "For this task, you should write the data base of the Finnland Meteorological Institue into a dictionary, that contains table header and content in one data structure.\n",
    "\n",
    "| StatName | ID | Lat | Long |\n",
    "|:-:|:-:|:-:|:-:|\n",
    "| Helsinki Kaisaniemi     | 100971 | 60.18 | 24.94 |\n",
    "| Helsinki Kaivopuisto    | 132310 | 60.15 | 24.96 |\n",
    "| Helsinki Kumpula        | 101004 | 60.20 | 24.96 |\n",
    "| Helsinki Malmi airfield | 101009 | 60.25 | 25.05 |\n",
    "| Helsinki lighthouse     | 101003 | 59.95 | 24.93 |\n",
    "\n",
    "The dictionary should be named `FIMdata` and it should be **a dictionary of 5 dictionaries**, with each of these 5 dictionaries containing a row of the data table above. Use the station ID's as key of the outer dictionary (instead of the names). Then use the remaining header lines as keys of the inner dictionaries and the remaing columns as values of the inner dictionaries. Make sure to use the same key names as in the table header given above. Use appropriate object types for the content numbers and strings."
   ]
  },
  {
   "cell_type": "code",
   "execution_count": 65,
   "id": "551388cb",
   "metadata": {},
   "outputs": [],
   "source": [
    "\n",
    "### YOUR CODE HERE\n",
    "FIMdata={\n",
    "    100971:{'StatName': 'Helsinki Kaisaniemi',  'Lat': 60.18,  'Long': 24.94},\n",
    "    132310:{'StatName': 'Helsinki Kaivopuisto', 'Lat': 60.15,  'Long': 24.96},\n",
    "    101004:{'StatName': 'Helsinki Kumpula','Lat': 60.20,  'Long': 24.96},\n",
    "    101009:{'StatName': 'Helsinki Malmi airfield','Lat': 60.25,  'Long': 25.05},\n",
    "    101003:{'StatName': 'Helsinki lighthouse','Lat': 59.95,  'Long': 24.93}\n",
    "}"
   ]
  },
  {
   "cell_type": "code",
   "execution_count": 2,
   "id": "1cd4f892",
   "metadata": {},
   "outputs": [],
   "source": [
    "# Check the content of your dataset.\n",
    "\n",
    "assert type(FIMdata) == dict\n",
    "assert FIMdata[100971]['StatName'] == 'Helsinki Kaisaniemi'\n",
    "assert FIMdata[101009]['Lat'] == 60.25\n",
    "assert [e for e in FIMdata] == [100971, 132310, 101004, 101009, 101003]\n",
    "assert len(FIMdata) == 5\n",
    "assert len(FIMdata[100971]) == 3"
   ]
  },
  {
   "cell_type": "markdown",
   "id": "3c558e44",
   "metadata": {},
   "source": [
    "--- \n",
    "### Task C.3\n",
    "\n",
    "Now do the following using methods and operators available for dicitonaries\n",
    "\n",
    "1. Delete only the station with the ID `132310` from the dictionary (for the station `'Helsinki Kaivopuisto')`. Study and use the operator `del` (see reading book L05_reading_Dictionaries.ipynb).\n",
    "\n",
    "2. Delete another entry (but not the last one) with the method `.pop()`. Do an internet search to learn the method.\n",
    "\n",
    "3. Update the name of the station `Helsinki lighthouse` to a shorter name: `lighthouse`. Study and use the method `update()` for this task.\n",
    "\n",
    "4. Write a list comprehension that extracts only station ID’s and names from your data set. Store the results in the variables FIMIDs and FIMStatNames.\n",
    "\n",
    "5. Write a list comprehension that extracts all the data for a `lighthouse` station from the dictionary. Store the results in the variable FIMlighthouse.\n"
   ]
  },
  {
   "cell_type": "code",
   "execution_count": null,
   "id": "0afbd2aa",
   "metadata": {},
   "outputs": [],
   "source": [
    "\n",
    "### YOUR CODE HERE - 1.\n",
    "del FIMdata(132310)"
   ]
  },
  {
   "cell_type": "code",
   "execution_count": 101,
   "id": "414557a8",
   "metadata": {},
   "outputs": [
    {
     "data": {
      "text/plain": [
       "{'StatName': 'Helsinki Kumpula', 'Lat': 60.2, 'Long': 24.96}"
      ]
     },
     "execution_count": 101,
     "metadata": {},
     "output_type": "execute_result"
    }
   ],
   "source": [
    "\n",
    "### YOUR CODE HERE - 2.\n",
    "FIMdata.pop(101004)"
   ]
  },
  {
   "cell_type": "code",
   "execution_count": null,
   "id": "8f2bb6ca",
   "metadata": {},
   "outputs": [],
   "source": [
    "\n",
    "### YOUR CODE HERE - 3.\n",
    "FIMdata[132310].update({'StatName':'lighthouse'})"
   ]
  },
  {
   "cell_type": "code",
   "execution_count": 88,
   "id": "f23f999a",
   "metadata": {},
   "outputs": [],
   "source": [
    "\n",
    "### YOUR CODE HERE - 4.\n",
    "FIMIDs = [ key for key in FIMdata]"
   ]
  },
  {
   "cell_type": "markdown",
   "id": "a139a6c2-0914-4324-a4eb-e8ad1c291043",
   "metadata": {
    "nbgrader": {
     "grade": true,
     "grade_id": "MutableObjects",
     "locked": false,
     "points": 3,
     "schema_version": 3,
     "solution": true
    }
   },
   "source": [
    "<div class=\"alert alert-warning\">\n",
    "\n",
    "Anwer 4 (three points deducted): second part is missing.\n",
    "\n",
    "```python\n",
    "FIMStatNames = [ FIMdata[key]['StatName'] for key in FIMdata ]\n",
    "```\n",
    "</div>"
   ]
  },
  {
   "cell_type": "code",
   "execution_count": 89,
   "id": "5e6075b0",
   "metadata": {},
   "outputs": [],
   "source": [
    "\n",
    "### YOUR CODE HERE - 5.\n",
    "FIMlighthouse =list(FIMdata.items())[-1] "
   ]
  },
  {
   "cell_type": "markdown",
   "id": "197208b3-0a3c-4da0-b55d-2f791a2f2ab6",
   "metadata": {
    "nbgrader": {
     "grade": true,
     "grade_id": "MutableObjects",
     "locked": false,
     "points": 3,
     "schema_version": 3,
     "solution": true
    }
   },
   "source": [
    "<div class=\"alert alert-warning\">\n",
    "\n",
    "Answer 5 (three points deducted): this lacks list comprehension. Also, your code works only with if you know the actual location of the entry of the station with the name lighthouse, after converting it to a list. This would not work after altering the dictionary. A more general solution is:\n",
    "    \n",
    "```python    \n",
    "    FIMlighthouse = [ FIMdata[e] for e in FIMdata if FIMdata[e]['StatName'] == 'lighthouse']\n",
    "```\n",
    "</div>"
   ]
  },
  {
   "cell_type": "markdown",
   "id": "14e63698",
   "metadata": {},
   "source": [
    "---\n",
    "If you are satisfied with your notebook, save it and push it to your homework repository. Or collect some extra credits beforehand!"
   ]
  },
  {
   "cell_type": "markdown",
   "id": "a25e51e2",
   "metadata": {},
   "source": [
    "---\n",
    "<a id='opt'></a>\n",
    "# D. Optional: Deepen Understanding of List Comprehensions\n",
    "\n",
    "For this task, you have given a list of people data in the following cell. Execute the data cell. Then study the code in the cell further below. It contains a lot of code examples, how to handle lists. Learn, how to interact with the data structure. Try and experiment with the example code in the empty code cells below.\n",
    "\n",
    "Especially focus on how various list comprehension queries can be merged to retrieve a specific entry, whithout actually looking at the data. For example: What is the name of the oldest person? The code examples provide you a step by step derivation of a comples list comprehension to receive the answer to that."
   ]
  },
  {
   "cell_type": "code",
   "execution_count": 135,
   "id": "c4829655",
   "metadata": {},
   "outputs": [],
   "source": [
    "# Data Set: People\n",
    "\n",
    "# Creating a list that defines a person: Name, age, points\n",
    "person = [\"Tom Howard\", 54, 6.0]\n",
    "\n",
    "# Creating a list of lists to define a team:\n",
    "people = [\n",
    "    [\"Tom Howard\",          54,  6.0],\n",
    "    [\"Jane Grimm\",          19,  5.9],\n",
    "    [\"Sam Brown\",           25,  6.2],\n",
    "    [\"Sarah Joan Spade\",    26, 5.25],\n",
    "    [\"Blaine Jones\",        62,  5.8],\n",
    "    [\"Devin Callahan\",      32, 5.92],\n",
    "]"
   ]
  },
  {
   "cell_type": "code",
   "execution_count": 136,
   "id": "abfaae91",
   "metadata": {},
   "outputs": [
    {
     "data": {
      "text/plain": [
       "[54, 19, 25, 26, 62, 32]"
      ]
     },
     "execution_count": 136,
     "metadata": {},
     "output_type": "execute_result"
    }
   ],
   "source": [
    "# Retrieving all people's ages\n",
    "[p[1] for p in people] "
   ]
  },
  {
   "cell_type": "code",
   "execution_count": 137,
   "id": "93d40052",
   "metadata": {
    "scrolled": true
   },
   "outputs": [
    {
     "name": "stdout",
     "output_type": "stream",
     "text": [
      "['Tom Howard', 54, 6.0]\n",
      "['Jane Grimm', 19, 5.9]\n",
      "['Sam Brown', 25, 6.2]\n",
      "['Sarah Joan Spade', 26, 5.25]\n",
      "['Blaine Jones', 62, 5.8]\n",
      "['Devin Callahan', 32, 5.92]\n"
     ]
    }
   ],
   "source": [
    "\"\"\"Study the following code examples: How to interact with lists.\"\"\"\n",
    "\n",
    "#Indexing: accessing certain list entries\n",
    "people[0]   # first entry\n",
    "people[-2]  # second last entry\n",
    "\n",
    "# Slicing\n",
    "people[0:2]  # first two people\n",
    "\n",
    "# How many people on the team\n",
    "len(people)\n",
    "\n",
    "# print out all list elements\n",
    "for p in people: print(p)\n",
    "    \n",
    "# Access all names\n",
    "[p[0] for p in people]\n",
    "\n",
    "# Gives all last names \n",
    "[p[0].split()[-1] for p in people]\n",
    "# (find help for function split listed under:\n",
    "#  Online help > string (type in search bar) > function split \n",
    "\n",
    "# Gives all ages\n",
    "[p[1] for p in people]\n",
    "\n",
    "# Gives average age\n",
    "sum([p[1] for p in people])/float(len(people))\n",
    "\n",
    "# Gives total height\n",
    "sum(p[2] for p in people)\n",
    "\n",
    "\n",
    "# What is the name of the oldest person?\n",
    "# First, find the max age\n",
    "ages =[p[1] for p in people] \n",
    "max(ages)\n",
    "# Now, which item is max? - 62\n",
    "ages.index(62)\n",
    "# Who is that - person 4\n",
    "people[4][0]\n",
    "# Combine all steps before to find the oldest person\n",
    "people[[p[1] for p in people].index(max([p[1] for p in people]))][0]\n",
    "\n",
    "\n",
    "# delete list elements\n",
    "del people[5]\n",
    "\n",
    "# add list elements\n",
    "people.append([\"Ntambila Daud\",      23, 5.92])\n",
    "\n",
    "# Find out what the method pop does!\n",
    "people.pop()\n",
    "people.pop(2)\n",
    "\n",
    "# Find out what methods sort and reverse do exactly\n",
    "# go to 'Online help' > search for list > find methods\n",
    "people.sort()\n",
    "people.reverse()"
   ]
  },
  {
   "cell_type": "markdown",
   "id": "61dacb18",
   "metadata": {},
   "source": [
    "Try the examples by copying & pasting them into the code cells below. Study their output. You may also add more code cells, if you like. This practise will help with the expertise in the following tasks."
   ]
  },
  {
   "cell_type": "code",
   "execution_count": 138,
   "id": "85c1b712",
   "metadata": {},
   "outputs": [
    {
     "data": {
      "text/plain": [
       "['Jane Grimm', 19, 5.9]"
      ]
     },
     "execution_count": 138,
     "metadata": {},
     "output_type": "execute_result"
    }
   ],
   "source": [
    "### Try the examples in this code cell. (This will not be graded.)\n",
    "people.pop(2)\n"
   ]
  },
  {
   "cell_type": "code",
   "execution_count": 141,
   "id": "8010301b",
   "metadata": {},
   "outputs": [
    {
     "data": {
      "text/plain": [
       "[['Blaine Jones', 62, 5.8],\n",
       " ['Sarah Joan Spade', 26, 5.25],\n",
       " ['Tom Howard', 54, 6.0]]"
      ]
     },
     "execution_count": 141,
     "metadata": {},
     "output_type": "execute_result"
    }
   ],
   "source": [
    "### Try the examples in this code cell. (This will not be graded.)\n",
    "people.sort()\n",
    "people"
   ]
  },
  {
   "cell_type": "code",
   "execution_count": 145,
   "id": "09c85c3f",
   "metadata": {},
   "outputs": [
    {
     "data": {
      "text/plain": [
       "[['Blaine Jones', 62, 5.8],\n",
       " ['Sarah Joan Spade', 26, 5.25],\n",
       " ['Tom Howard', 54, 6.0]]"
      ]
     },
     "execution_count": 145,
     "metadata": {},
     "output_type": "execute_result"
    }
   ],
   "source": [
    "### Try the examples in this code cell. (This will not be graded.)\n",
    "people.reverse()\n",
    "people"
   ]
  },
  {
   "cell_type": "markdown",
   "id": "1e93df6a",
   "metadata": {},
   "source": [
    "### Task D.1\n",
    "\n",
    "After studying the examples for list comprehensions as well as string methods, answer the following: which of the operations or functions above are mutating the list? Copy & paste all examples you can find into the markdown cell below."
   ]
  },
  {
   "cell_type": "markdown",
   "id": "578ac43d",
   "metadata": {},
   "source": [
    "ENTER YOUR ANSWER HERE\n",
    "pop() operation delete the item from the list, sort rearrange elements in alphabetically, append adds element in a list"
   ]
  },
  {
   "cell_type": "markdown",
   "id": "77af4174",
   "metadata": {},
   "source": [
    "### Task D.2\n",
    "\n",
    "Write a 1-line long list comprehension that returns the name of the person with the lowest points and assigns it to the variable `NameLowestPoints`. You have to retrieve the result by executing a **code chain of list comprehensions and functions** on the list people, not through simple assignment (similar to the example above for the oldest person). \n",
    "\n",
    "The code should work on any other list with the same data structure. For that a second example is provided below."
   ]
  },
  {
   "cell_type": "code",
   "execution_count": 147,
   "id": "afd2eae1",
   "metadata": {},
   "outputs": [],
   "source": [
    "# Example 1\n",
    "people = [\n",
    "    [\"Tom Howard\",          54,  6.0],\n",
    "    [\"Jane Grimm\",          19,  5.9],\n",
    "    [\"Sam Brown\",           25,  6.2],\n",
    "    [\"Sarah Joan Spade\",    26, 5.25],\n",
    "    [\"Blaine Jones\",        62,  5.8],\n",
    "    [\"Devin Callahan\",      32, 5.92],\n",
    "]\n",
    "\n",
    "# Example 2\n",
    "famousGeographers = [\n",
    "    [\"Eratosthenes\",            -276,  80],\n",
    "    [\"Al Idrisi\",               1100,  65],\n",
    "    [\"Alexander von Humboldt\",  1769,  68],\n",
    "    [\"Immanuel Kant\",           1724,  80],\n",
    "    [\"Carl Ritter\",             1779,  80],\n",
    "    [\"Arnaldo Faustini\",        1872,  72],\n",
    "]"
   ]
  },
  {
   "cell_type": "code",
   "execution_count": 149,
   "id": "658dd0d6",
   "metadata": {},
   "outputs": [
    {
     "name": "stdout",
     "output_type": "stream",
     "text": [
      "Sarah Joan Spade\n"
     ]
    }
   ],
   "source": [
    "pointIndex=2\n",
    "NameIndex=0\n",
    "NameLowestPoints=people[[p[pointIndex] for p in people].index(min([p[pointIndex] for p in people]))][NameIndex]\n",
    "print(NameLowestPoints)"
   ]
  },
  {
   "cell_type": "code",
   "execution_count": null,
   "id": "9424e048",
   "metadata": {},
   "outputs": [],
   "source": []
  }
 ],
 "metadata": {
  "kernelspec": {
   "display_name": "Python 3",
   "language": "python",
   "name": "python3"
  },
  "language_info": {
   "codemirror_mode": {
    "name": "ipython",
    "version": 3
   },
   "file_extension": ".py",
   "mimetype": "text/x-python",
   "name": "python",
   "nbconvert_exporter": "python",
   "pygments_lexer": "ipython3",
   "version": "3.8.8"
  }
 },
 "nbformat": 4,
 "nbformat_minor": 5
}
